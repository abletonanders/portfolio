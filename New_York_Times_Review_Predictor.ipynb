{
  "nbformat": 4,
  "nbformat_minor": 0,
  "metadata": {
    "colab": {
      "name": "New York Times Review Predictor",
      "provenance": [],
      "collapsed_sections": [],
      "include_colab_link": true
    },
    "kernelspec": {
      "name": "python3",
      "display_name": "Python 3"
    }
  },
  "cells": [
    {
      "cell_type": "markdown",
      "metadata": {
        "id": "view-in-github",
        "colab_type": "text"
      },
      "source": [
        "<a href=\"https://colab.research.google.com/github/andersthequeen/cis545/blob/master/New_York_Times_Review_Predictor.ipynb\" target=\"_parent\"><img src=\"https://colab.research.google.com/assets/colab-badge.svg\" alt=\"Open In Colab\"/></a>"
      ]
    },
    {
      "cell_type": "markdown",
      "metadata": {
        "id": "qVMCjEV1IEC7",
        "colab_type": "text"
      },
      "source": [
        "# New York Times Restaurant Review Ratings Predictor\n",
        "### **Due Date: April 29, 2020**\n",
        "### **Deliverable Two Video Link:**\n",
        "https://youtu.be/MA1mlpJNqWE\n",
        "\n",
        "### **Goal of Project**\n",
        "The goal of the New York Times Restaurant Review Ratings Predictor is quite simple – to predict the number of stars the New York Times will award to any one specific restaurant based on the information the New York Times provides regarding the restaurant.\n",
        "\n",
        "*The idea is this:* in the unlikely event that the ratings for each review on the New York Times disappeared, my model would hopefully be able to estimate what the ratings *would have been* based on the contents of the article.\n",
        "\n",
        "### **Structure of Project**\n",
        "\n",
        "1. Scraping the New York Times\n",
        "2. Gathering Article Data\n",
        "3. Cleaning and Piecing Article Data\n",
        "4. Implementing Machine Learning"
      ]
    },
    {
      "cell_type": "markdown",
      "metadata": {
        "id": "kDCvBlKrvJvh",
        "colab_type": "text"
      },
      "source": [
        "###**Selenium and Scraping the New York Times**\n",
        "This is a screenshot of the main New York Times dining website, where all of our restaurant information is located. \n",
        "\n",
        "Our goal is to scrape as much information as possible from the website and its articles. Our first task is to scrape the main page. The problem is, however, this page is not infinitely scrollable. At the very bottom, there is a *show more* button that requires clicking. Because the page is very large, ideally, we would want an automative process to go through each article and scrape the data for us.\n",
        "\n",
        "The url is here: https://www.nytimes.com/reviews/dining. \n",
        "\n",
        "![alt text](https://drive.google.com/uc?id=1K1NB8yIPY8fVaZamplL1u039glhDtyRC)\n"
      ]
    },
    {
      "cell_type": "markdown",
      "metadata": {
        "id": "-3sZOACELL4-",
        "colab_type": "text"
      },
      "source": [
        "# Part 1: Scraping the New York Times\n"
      ]
    },
    {
      "cell_type": "markdown",
      "metadata": {
        "id": "Ne_mR8it9k_I",
        "colab_type": "text"
      },
      "source": [
        "**Step One: Run installations.**\n",
        "\n"
      ]
    },
    {
      "cell_type": "code",
      "metadata": {
        "id": "e5QyH1cdK7GL",
        "colab_type": "code",
        "colab": {}
      },
      "source": [
        "%%capture\n",
        "!pip3 install requests_html\n",
        "!pip3 install selenium\n",
        "\n",
        "import time\n",
        "import re\n",
        "import os\n",
        "import io\n",
        "import urllib\n",
        "import requests\n",
        "import datetime\n",
        "import pandas as pd\n",
        "from lxml import html\n",
        "from lxml import etree\n",
        "from google.colab import files\n",
        "from io import StringIO, BytesIO\n",
        "from requests_html import HTML, HTMLSession\n",
        "from bs4 import BeautifulSoup\n",
        "from selenium import webdriver\n",
        "from selenium.webdriver.common.by import By\n",
        "from selenium.webdriver.chrome.options import Options\n",
        "from selenium.webdriver.common.keys import Keys\n",
        "from selenium.webdriver.support.ui import WebDriverWait\n",
        "from selenium.webdriver.support import expected_conditions as EC"
      ],
      "execution_count": 0,
      "outputs": []
    },
    {
      "cell_type": "markdown",
      "metadata": {
        "id": "KZs1Ej_Y9rOm",
        "colab_type": "text"
      },
      "source": [
        "**Step Two: Run more installations.**"
      ]
    },
    {
      "cell_type": "code",
      "metadata": {
        "id": "y4GCmoq0TbnN",
        "colab_type": "code",
        "colab": {}
      },
      "source": [
        "%%capture\n",
        "!apt-get update # to update ubuntu to correctly run apt install\n",
        "!apt install chromium-chromedriver\n",
        "!cp /usr/lib/chromium-browser/chromedriver /usr/bin\n",
        "import sys\n",
        "sys.path.insert(0,'/usr/lib/chromium-browser/chromedriver')\n",
        "chrome_options = webdriver.ChromeOptions()\n",
        "chrome_options.add_argument('--headless')\n",
        "chrome_options.add_argument('--no-sandbox')\n",
        "chrome_options.add_argument('--disable-dev-shm-usage')"
      ],
      "execution_count": 0,
      "outputs": []
    },
    {
      "cell_type": "markdown",
      "metadata": {
        "id": "qM4sdxSL4sSN",
        "colab_type": "text"
      },
      "source": [
        "**Step Three: Scraping the New York Times website.**\n",
        "\n",
        "![alt text](https://drive.google.com/uc?id=1cHK-LKFIHgbD3nx25deCbuG4-_CduY9q)\n",
        "\n",
        "To automatically scrape the article, we use `Selenium` to generate a headless browser and execute the following commands iteratively:\n",
        "\n",
        "1. First, we create a headless browser that houses the article. \n",
        "```\n",
        "driver = webdriver.Chrome('chromedriver', chrome_options = chrome_options)\n",
        "driver.get(\"https://www.nytimes.com/reviews/dining\")\n",
        "```\n",
        "2. Next, we 'scroll' to the very top of the article and we wait for all of the restaurant reviews to pop up onto the screen.\n",
        "```\n",
        "driver.execute_script(\"window.scrollTo(0, document.body.scrollHeight);\")\n",
        "elements = WebDriverWait(driver, 20).until(EC.visibility_of_all_elements_located\n",
        "                                             ((By.CSS_SELECTOR,\"article.css-lgadl5\")))\n",
        "```\n",
        "3. Once all the restaurant reviews pop up on the screen, we scrape each one individually for information. In particular, we are looking to fill the following columns:\n",
        "```\n",
        "['Restaurant', 'URL', 'servesCuisine', 'priceRange', 'addressLocality', 'date', 'rating']\n",
        "```\n",
        "To fill these columns, we use the selenium function `find_elements_by_tag_name` to access article information.\n",
        "\n",
        "4. Once we have harvested data from all the restaurants in view, we wait to make sure that the *show more* button is visible at the bottom of the screen. If it is, we click, revealing more restaurant reviews, thus starting the process all over again.\n",
        "```\n",
        "    button = WebDriverWait(driver, 10).until(EC.visibility_of_element_located\n",
        "                                             ((By.XPATH,\"//button[text()='Show More']\")))\n",
        "    driver.execute_script(\"arguments[0].click();\", button)\n",
        "```\n",
        "\n",
        "\n"
      ]
    },
    {
      "cell_type": "code",
      "metadata": {
        "id": "J5Dqem7UGi0G",
        "colab_type": "code",
        "colab": {}
      },
      "source": [
        "# 1. Initiating the webdriver\n",
        "driver = webdriver.Chrome('chromedriver', chrome_options = chrome_options)\n",
        "driver.get(\"https://www.nytimes.com/reviews/dining\")\n",
        "\n",
        "# 2. To accept the coockie click on that\n",
        "WebDriverWait(driver, 20).until(EC.element_to_be_clickable\n",
        "                                ((By.XPATH,\"//button[text()='Show More']\"))).click()\n",
        "url_list = []\n",
        "nyt_dining = pd.DataFrame(columns = ['Restaurant', 'URL', 'servesCuisine', \n",
        "                                     'priceRange', 'addressLocality', 'date', 'rating'])\n",
        "\n",
        "x = 0 \n",
        "while(True):\n",
        "    driver.execute_script(\"window.scrollTo(0, document.body.scrollHeight);\")\n",
        "    elements = WebDriverWait(driver, 20).until(EC.visibility_of_all_elements_located\n",
        "                                             ((By.CSS_SELECTOR,\"article.css-lgadl5\")))\n",
        "    print(str(len(elements)) + ' elements')\n",
        "    if len(elements) > 60:\n",
        "      elements = elements[-50:]\n",
        "    url_before = len(url_list)\n",
        "    for e in elements:\n",
        "      # 2.1 Getting the links\n",
        "      link = e.find_element_by_css_selector(\"a.css-gg4vpm\")\n",
        "      link = link.get_attribute(\"href\")\n",
        "\n",
        "      if link in url_list:\n",
        "        continue\n",
        "      else:\n",
        "        # 2.1 Getting the restaurant name\n",
        "        name = e.find_element_by_css_selector(\"h2.css-8aqwnr\")\n",
        "        name = name.text\n",
        "        \n",
        "        # 2.3 Getting other information\n",
        "        info = e.find_element_by_css_selector(\"ul.css-o4kdzz\")\n",
        "        info = info.find_elements_by_tag_name('li')\n",
        "        cuisine = ''\n",
        "        price = ''\n",
        "        neighborhood = ''\n",
        "        \n",
        "        for i in info:\n",
        "          attribute = i.get_attribute(\"itemprop\")\n",
        "          if attribute == \"servesCuisine\":\n",
        "            cuisine = i.text\n",
        "          elif attribute == \"priceRange\":\n",
        "            price = i.text\n",
        "          elif attribute == \"addressLocality\":\n",
        "            neighborhood = i.text\n",
        "        \n",
        "        rating = e.find_elements_by_tag_name(\"span\")\n",
        "        for rate in rating:\n",
        "          verify = rate.get_attribute(\"class\")\n",
        "          if verify == \"css-1dv1kvn\":\n",
        "            rate = rate.get_attribute(\"innerHTML\")\n",
        "            rating = rate\n",
        "\n",
        "        date = e.find_element_by_tag_name(\"time\")\n",
        "        date = date.text\n",
        "        \n",
        "        # 2.4 Append to dataframe\n",
        "        url_list.append(link)\n",
        "        nyt_dining = nyt_dining.append({'Restaurant': name, 'URL': link,\n",
        "                                        'servesCuisine': cuisine,\n",
        "                                        'priceRange': price,\n",
        "                                        'addressLocality': neighborhood,\n",
        "                                        'date': date, 'rating': rating}, \n",
        "                                       ignore_index = True)\n",
        "      print(str(x) + ' in')\n",
        "      x += 1\n",
        "\n",
        "    url_after = len(url_list)\n",
        "    if url_before >= url_after:\n",
        "      break\n",
        "    button = WebDriverWait(driver, 10).until(EC.visibility_of_element_located\n",
        "                                             ((By.XPATH,\"//button[text()='Show More']\")))\n",
        "    driver.execute_script(\"arguments[0].click();\", button)\n",
        "    time.sleep(2)\n",
        "\n",
        "nyt_dining"
      ],
      "execution_count": 0,
      "outputs": []
    },
    {
      "cell_type": "markdown",
      "metadata": {
        "id": "6Gy-hxR5_o-V",
        "colab_type": "text"
      },
      "source": [
        "**Step Four: Load `nyt_dining` into an Excel file and upload to Github.**"
      ]
    },
    {
      "cell_type": "code",
      "metadata": {
        "id": "14WqZucP4m5C",
        "colab_type": "code",
        "colab": {}
      },
      "source": [
        "nyt_dining.to_excel(\"nyt_dining.xlsx\")\n",
        "files.download(\"nyt_dining.xlsx\")"
      ],
      "execution_count": 0,
      "outputs": []
    },
    {
      "cell_type": "code",
      "metadata": {
        "id": "k_DHqxWqdtgN",
        "colab_type": "code",
        "colab": {}
      },
      "source": [
        "nyt_dining = pd.read_excel(\"https://github.com/andersthequeen/cis545/blob/master/nyt_dining.xlsx?raw=true\", \n",
        "                           headers = True, index_col = 0)"
      ],
      "execution_count": 0,
      "outputs": []
    },
    {
      "cell_type": "markdown",
      "metadata": {
        "id": "CLhVB9_RtS8E",
        "colab_type": "text"
      },
      "source": [
        "**Step Five: Convert the `rating` column.**"
      ]
    },
    {
      "cell_type": "code",
      "metadata": {
        "id": "vDzxaZ74tRJ4",
        "colab_type": "code",
        "colab": {}
      },
      "source": [
        "def rating(x):\n",
        "  if x is not None:\n",
        "    x = x.strip()\n",
        "    if len(x) < 20:\n",
        "      nums = re.findall(r'\\d+', x)\n",
        "      if len(nums) == 1:\n",
        "        return float(nums[0])\n",
        "      elif len(nums) == 2:\n",
        "        return (float(nums[0] + '.' + nums[1]))\n",
        "      else:\n",
        "        return 0.0\n",
        "    else:\n",
        "      return 0.0\n",
        "  else:\n",
        "    return 0.0\n",
        "nyt_dining['rating'] = nyt_dining['rating'].apply(lambda x: rating(x))"
      ],
      "execution_count": 0,
      "outputs": []
    },
    {
      "cell_type": "markdown",
      "metadata": {
        "id": "6yU9wnnk6vnX",
        "colab_type": "text"
      },
      "source": [
        "**Plot**\n",
        "\n",
        "Here, we plot the number of restaurants categorized into each rating. Some basic insights:\n",
        "\n",
        "*   About 800 restaurants fall into the \"0.0\" category. These are restaurants that either aren't rated or have garnered a poor — 0.25 — fair — 0.50 — or satisfactory — 0.75 — rating.\n",
        "*   Of the \"starred\" restaurants, the most common award is two stars, which is designated as \"Very Good.\" \n",
        "*   There are about 200 restaurants in the New York Times that have earned one star, which is designated as \"Good.\"\n",
        "*   Fewer than 100 restaurants have attained three stars, designated as \"Excellent,\" and only 3 restaurants in total have achieved four stars, designated as \"Extraordinary.\"\n",
        "\n"
      ]
    },
    {
      "cell_type": "code",
      "metadata": {
        "id": "Cnsme3Mjha2J",
        "colab_type": "code",
        "colab": {}
      },
      "source": [
        "import numpy as np\n",
        "import pandas as pd\n",
        "import seaborn as sns\n",
        "from matplotlib import rc\n",
        "import matplotlib.pyplot as plt"
      ],
      "execution_count": 0,
      "outputs": []
    },
    {
      "cell_type": "code",
      "metadata": {
        "id": "RescPGqluaBm",
        "colab_type": "code",
        "outputId": "9140f18a-e5b6-4a28-e99e-0c2cfebc28c5",
        "colab": {
          "base_uri": "https://localhost:8080/",
          "height": 338
        }
      },
      "source": [
        "ratings_list = nyt_dining['rating'].apply(lambda x: 0 if x < 1 else x)\n",
        "ratings_list = ratings_list.groupby(by = ratings_list).count()\n",
        "ratings_list.sort_index(inplace = True)\n",
        "f, ax = plt.subplots(figsize=(10, 5))\n",
        "ax = sns.barplot(ratings_list.index, ratings_list, palette = 'husl')\n",
        "ax.set(xlabel = 'Number of Stars Awarded', ylabel = 'Number of Restaurants')\n",
        "plt.show()"
      ],
      "execution_count": 0,
      "outputs": [
        {
          "output_type": "display_data",
          "data": {
            "image/png": "[encoded data removed]",
            "text/plain": [
              "<Figure size 720x360 with 1 Axes>"
            ]
          },
          "metadata": {
            "tags": []
          }
        }
      ]
    },
    {
      "cell_type": "markdown",
      "metadata": {
        "id": "U2uruuN2CH_2",
        "colab_type": "text"
      },
      "source": [
        "**Plot**\n",
        "\n",
        "Here, we plot the proportion of restaurants that are of a particular price in each of their ratings categories. For example, from the plot below, we see that all restaurants with four stars — Extraordinary restaurants — are entirely all very expensive restaurants as well."
      ]
    },
    {
      "cell_type": "code",
      "metadata": {
        "id": "y2e04GcIhTcA",
        "colab_type": "code",
        "colab": {}
      },
      "source": [
        "rating_list = list(nyt_dining['rating'].apply(lambda x: 0 if x < 1 else x))\n",
        "def priceRange(x):\n",
        "  if x is not None:\n",
        "    return int(len(x.strip()))\n",
        "  else:\n",
        "    return None\n",
        "price_list = nyt_dining['priceRange'].apply(lambda x: priceRange(x))\n",
        "price_list = list(price_list)\n",
        "raw_data = {'rating': rating_list, 'prices': price_list}\n",
        "rating_price = pd.DataFrame(raw_data)\n",
        "rating_price = rating_price.groupby([\"rating\", \"prices\"])[\"prices\"].count()\n",
        "rating_price"
      ],
      "execution_count": 0,
      "outputs": []
    },
    {
      "cell_type": "code",
      "metadata": {
        "id": "lCC9JOa-i74B",
        "colab_type": "code",
        "outputId": "d8d4ac77-6af7-4462-9063-f44be3559fb5",
        "colab": {
          "base_uri": "https://localhost:8080/",
          "height": 543
        }
      },
      "source": [
        "# Credit: https://python-graph-gallery.com/13-percent-stacked-barplot/\n",
        "rating_price = {'$':[282, 15, 7, 0, 0], '$$':[404, 67, 69, 6, 0], \n",
        "                '$$$':[94, 85, 107, 21, 0], '$$$$':[30, 36, 54, 34, 3]}\n",
        "rating_price = pd.DataFrame(rating_price)\n",
        "totals = [a + b + c + d for a, b, c, d in zip(rating_price['$'], rating_price['$$'],\n",
        "                                              rating_price['$$$'], rating_price['$$$$'])]\n",
        "inexpensive = [i / j * 100 for i, j in zip(rating_price['$'], totals)]\n",
        "moderate = [i / j * 100 for i, j in zip(rating_price['$$'], totals)]\n",
        "expensive = [i / j * 100 for i, j in zip(rating_price['$$$'], totals)]\n",
        "very_expensive = [i / j * 100 for i, j in zip(rating_price['$$$$'], totals)]\n",
        "\n",
        "# Credit: https://stackoverflow.com/questions/332289/how-do-you-change-the-size-of-figures-drawn-with-matplotlib\n",
        "fig = matplotlib.pyplot.gcf()\n",
        "fig.set_size_inches(10, 8)\n",
        "\n",
        "r = [0, 1, 2, 3, 4]\n",
        "barWidth = 1\n",
        "names = ('No Stars', 'Good', 'Very Good', 'Excellent', 'Extraordinary')\n",
        "plt.bar(r, inexpensive, color = '#b5ffb9', edgecolor = 'white', \n",
        "        width = barWidth, label = 'inexpensive')\n",
        "plt.bar(r, moderate, bottom = inexpensive, color = '#f9bc86', \n",
        "        edgecolor = 'white', width = barWidth, label = 'moderate')\n",
        "plt.bar(r, expensive, bottom = [i + j for i, j in zip(inexpensive, moderate)], \n",
        "        color = '#a3acff', edgecolor = 'white', width = barWidth,\n",
        "        label = 'expensive')\n",
        "plt.bar(r, very_expensive, \n",
        "        bottom = [i + j + k for i, j, k in zip(inexpensive, moderate, expensive)],\n",
        "        color = '#ff726f', edgecolor = 'white', width = barWidth,\n",
        "        label = 'very expensive')\n",
        "\n",
        "font_title = {'weight': 'normal', 'size': 16}\n",
        "font_label = {'weight': 'normal', 'size': 14}\n",
        "xlabel = plt.xlabel('Rating Category', font_label)\n",
        "ylabel = plt.ylabel('Percentage of Restaurants', font_label)\n",
        "ttl = plt.title('Proportion of Each Price Group Within Rating Categories', font_title)\n",
        "ttl.set_position([.5, 1.05])\n",
        "plt.legend(loc='upper left', bbox_to_anchor=(1,1), ncol=1)\n",
        "plt.xticks(r, names)\n",
        "plt.show()"
      ],
      "execution_count": 0,
      "outputs": [
        {
          "output_type": "display_data",
          "data": {
            "image/png": "[encoded data removed]",
            "text/plain": [
              "<Figure size 720x576 with 1 Axes>"
            ]
          },
          "metadata": {
            "tags": []
          }
        }
      ]
    },
    {
      "cell_type": "markdown",
      "metadata": {
        "id": "hLLCcNBD5j-x",
        "colab_type": "text"
      },
      "source": [
        "# Part 2: Gathering Individual Article Data\n",
        "\n",
        "Because of how the article is structured, gathering the individual article data requires using a combination of `Selenium` and `Beautiful Soup`. The article is divided in half: a top portion, and a bottom portion. Because articles do not automatically load with all elements immediately visibly on the screen, `Selenium` is needed to automate the action of scrolling down the article to the bottom and waiting for the rest of the article to load. Once all elements are present on the screen, `Beautiful Soup` is used to quickly scrape the rest of the data.\n"
      ]
    },
    {
      "cell_type": "markdown",
      "metadata": {
        "id": "qnZ1NLWjDlv3",
        "colab_type": "text"
      },
      "source": [
        "**Step One: Load in Data From Github.**"
      ]
    },
    {
      "cell_type": "code",
      "metadata": {
        "id": "xFFdhlHk5mg4",
        "colab_type": "code",
        "colab": {}
      },
      "source": [
        "# Credit: https://projectosyo.wixsite.com/datadoubleconfirm/single-post/2019/04/15/Reading-csv-data-from-Github---Python\n",
        "\n",
        "nyt_dining = pd.read_excel(\"https://github.com/andersthequeen/cis545/blob/master/nyt_dining.xlsx?raw=true\", \n",
        "                           headers = True, index_col = 0)\n",
        "nyt_dining"
      ],
      "execution_count": 0,
      "outputs": []
    },
    {
      "cell_type": "markdown",
      "metadata": {
        "id": "RYfhoSgkKCsB",
        "colab_type": "text"
      },
      "source": [
        "**Step Two: Scraping the top half of the article review**\n",
        "\n",
        "To scrape all 1314 articles, we first load a list of URLs into the `url_list` to iterate through. This is a sample of the top of each restaurant review article, as well as the content of interest highlighted in the red boxes: ![alt text](https://drive.google.com/uc?id=1SDEf5X48ENquW3KCFHXLGs4S94cYTXaB)\n",
        "\n",
        "For each article, we use `BeautifulSoup` to parse the html from the website. Overall, we seek to collect data to fill these columns — `['URL', 'photo', 'nytPick', 'author', 'time', 'body']` — which represent the following items:\n",
        "1. The URL of the restaurant review\n",
        "2. The number of photos the restaurant review features\n",
        "3. Whether or not the restaurant is an nytPick\n",
        "4. The author of the article\n",
        "5. The date the article was written\n",
        "6. The body text of the article"
      ]
    },
    {
      "cell_type": "code",
      "metadata": {
        "id": "H51CFQY39MaW",
        "colab_type": "code",
        "colab": {}
      },
      "source": [
        "# Credit: https://stackoverflow.com/questions/28643567/accessing-uninform-dt-dt-dd-dd-tags\n",
        "# Takes approximately 30 minutes to process this cell block\n",
        "\n",
        "url_list = list(nyt_dining['URL'])\n",
        "session = HTMLSession()\n",
        "nyt_top = pd.DataFrame(columns = ['URL', 'photo', 'nytPick', 'author', 'time', 'body'])\n",
        "\n",
        "x = 0\n",
        "for url in url_list:\n",
        "  r = session.get(url)\n",
        "  soup = BeautifulSoup(r.text, 'html.parser')\n",
        "\n",
        "  # 1. Above Article Information\n",
        "  # 1.1 Number of Photos\n",
        "  try:\n",
        "    photo = soup.findAll(\"p\", attrs = {\"class\": \"css-mjef36\"})\n",
        "    photo = int(photo[1].text.replace('Photos', '').strip())\n",
        "  except:\n",
        "    photo = ''\n",
        "\n",
        "  # 1.2 NYT Critics Pick\n",
        "  pick = soup.find(\"dd\", attrs = {\"class\": \"css-up6b8e\"})\n",
        "  try:\n",
        "    pick = pick.find(\"span\").text\n",
        "  except:\n",
        "    pick = ''\n",
        "\n",
        "  # 1.3 Author Name\n",
        "  try:\n",
        "    author = soup.find(\"span\", attrs = {\"class\": \"css-1baulvz last-byline\"}).text\n",
        "  except:\n",
        "    author = ''\n",
        "\n",
        "  # 1.4 Date of Publication\n",
        "  try:\n",
        "    time = soup.find(\"time\", attrs = {\"class\": \"css-129k401 e16638kd0\"}).text\n",
        "  except:\n",
        "    time = ''\n",
        "\n",
        "  # 2. Article Information\n",
        "  article_text = ''\n",
        "  try:\n",
        "    texts = soup.findAll(\"p\", attrs = {\"class\": \"css-exrw3m evys1bk0\"})\n",
        "    for text in texts:\n",
        "      article_text += text.text\n",
        "  except:\n",
        "    article_text = ''\n",
        "\n",
        "  nyt_top = nyt_top.append({'URL': url, 'photo': photo, 'nytPick': pick, \n",
        "                            'author': author, 'time': time, 'body': article_text}, \n",
        "                           ignore_index = True)\n",
        "  x += 1\n",
        "  if x % 10 == 0:\n",
        "    print(x)"
      ],
      "execution_count": 0,
      "outputs": []
    },
    {
      "cell_type": "markdown",
      "metadata": {
        "id": "c_cPMe8OaZE2",
        "colab_type": "text"
      },
      "source": [
        "**Step Three: Load `nyt_top` into an Excel file.**\n",
        "\n"
      ]
    },
    {
      "cell_type": "code",
      "metadata": {
        "id": "akUoSWIbZSPY",
        "colab_type": "code",
        "colab": {}
      },
      "source": [
        "# STEP THREE: Download the xlsx.\n",
        "nyt_top.to_excel(\"nyt_top.xlsx\")\n",
        "files.download(\"nyt_top.xlsx\")"
      ],
      "execution_count": 0,
      "outputs": []
    },
    {
      "cell_type": "markdown",
      "metadata": {
        "id": "Hd2T5Mx0ahqH",
        "colab_type": "text"
      },
      "source": [
        "**Step Four: Define a `scroll_down` function to access bottom article information.**\n",
        "\n",
        "Because the bottom of each article does not automatically, load, scraping the bottom information from each article again requires `selenium`. By scrolling down to the bottom of the document and waiting, the information originally hidden can be easily revealed.\n"
      ]
    },
    {
      "cell_type": "code",
      "metadata": {
        "id": "nzrAru1l4Dw7",
        "colab_type": "code",
        "colab": {}
      },
      "source": [
        "# STEP FOUR: Define the scroll down function to access bottom article information.\n",
        "# Credit: https://stackoverflow.com/questions/48850974/selenium-scroll-to-end-of-page-in-dynamically-loading-webpage/48851166#48851166\n",
        "\n",
        "def scroll_down(self):\n",
        "  last_height = self.execute_script(\"return document.body.scrollHeight\")\n",
        "  while True:\n",
        "    # Scroll down to the bottom.\n",
        "    self.execute_script(\"window.scrollTo(0, document.body.scrollHeight);\")\n",
        "    # Wait to load the page.\n",
        "    time.sleep(2)\n",
        "    # Calculate new scroll height and compare with last scroll height.\n",
        "    new_height = self.execute_script(\"return document.body.scrollHeight\")\n",
        "    if new_height == last_height:\n",
        "      break\n",
        "    last_height = new_height"
      ],
      "execution_count": 0,
      "outputs": []
    },
    {
      "cell_type": "markdown",
      "metadata": {
        "id": "AIDMrKoKbOSJ",
        "colab_type": "text"
      },
      "source": [
        "**Step Five: Scraping the bottom half of the article review**\n",
        "\n",
        "Once the html of the article is revealed, we use `BeautifulSoup` to parse the html from the website. Highlighted in red below are the elements that we seek to extract from the bottom of the article.\n",
        "\n",
        "![alt text](https://drive.google.com/uc?id=1L_9FL-NFMFECnRrWY2lO7tOiMLOheipw)\n",
        "\n",
        "Overall, we seek to collect data to fill these columns — `['URL', 'atmosphere', 'noise', 'dishes', 'drinks', 'hours', 'reservations', 'access']` — which represent the following items:\n",
        "1. The URL of the restaurant review\n",
        "2. The atmosphere of the restaurant\n",
        "3. Restaurant noisiness\n",
        "4. A list of key dishes offered by the restaurant\n",
        "5. A list of key drinks offered by the restuanrat\n",
        "6. The restaurant hours\n",
        "7. Whether or not the restaurant takes reservations\n",
        "8. The ADA accessibility of the restaurant"
      ]
    },
    {
      "cell_type": "code",
      "metadata": {
        "id": "ZbFYGN5hGPvb",
        "colab_type": "code",
        "colab": {}
      },
      "source": [
        "url_list = list(nyt_dining['URL'])\n",
        "nyt_bottom = pd.DataFrame(columns = ['URL', 'atmosphere', 'noise', 'dishes', \n",
        "                                     'drinks', 'hours', 'reservations', 'access'])\n",
        "\n",
        "x = 0\n",
        "for url in url_list[600:]:\n",
        "  driver = webdriver.Chrome('chromedriver', chrome_options = chrome_options)\n",
        "  try:\n",
        "    driver.get(url)\n",
        "  except:\n",
        "    nyt_bottom.append({'URL': url, 'atmosphere': '', 'noise': '', \n",
        "                                  'dishes': '', 'drinks': '', 'hours': '',\n",
        "                                  'reservations': '', 'access': ''},\n",
        "                                 ignore_index = True)\n",
        "    continue\n",
        "  scroll_down(driver)\n",
        "  soup = BeautifulSoup(driver.page_source, 'html.parser')\n",
        "\n",
        "  # 3.1 Atmosphere\n",
        "  try:\n",
        "    atmosphere = soup.find(\"div\", attrs = {\"class\": \"atmosphere\"})\n",
        "    atmosphere = atmosphere.find(\"dd\").text\n",
        "  except:\n",
        "    atmosphere = ''\n",
        "  \n",
        "  # 3.2 Noise Level\n",
        "  try:\n",
        "    noise = soup.find(\"div\", attrs = {\"class\": \"noiseLevel\"})\n",
        "    noise = noise.find(\"dd\").text\n",
        "  except:\n",
        "    noise = ''\n",
        "  \n",
        "  # 3.3 Recommended Dishes\n",
        "  try:\n",
        "    dishes = soup.find(\"div\", attrs = {\"class\": \"recommendedDishes\"})\n",
        "    dishes = dishes.find(\"dd\").text\n",
        "  except:\n",
        "    dishes = ''\n",
        "  \n",
        "  # 3.4 Drinks and Wine\n",
        "  try:\n",
        "    drinks = soup.find(\"div\", attrs = {\"class\": \"alcoholInfo\"})\n",
        "    drinks = drinks.find(\"dd\").text\n",
        "  except:\n",
        "    drinks = ''\n",
        "  \n",
        "  # 3.5 Open\n",
        "  try:\n",
        "    hours = soup.find(\"dd\", attrs = {\"class\": \"hours\"}).text\n",
        "  except:\n",
        "    hours = ''\n",
        "\n",
        "  # 3.6 Reservations\n",
        "  try:\n",
        "    reservations = soup.find(\"dd\", attrs = {\"class\": \"reservations\"}).text\n",
        "  except:\n",
        "    reservations = ''\n",
        "  \n",
        "  # 3.7 Wheelchair Access\n",
        "  try:\n",
        "    access = soup.find(\"div\", attrs = {\"class\": \"accessibility\"})\n",
        "    access = access.find(\"dd\").text\n",
        "  except:\n",
        "    access = ''\n",
        "\n",
        "  nyt_bottom = nyt_bottom.append({'URL': url, 'atmosphere': atmosphere, 'noise': noise, \n",
        "                                  'dishes': dishes, 'drinks': drinks, 'hours': hours,\n",
        "                                  'reservations': reservations, 'access': access},\n",
        "                                 ignore_index = True)\n",
        "  x += 1\n",
        "  print(x)"
      ],
      "execution_count": 0,
      "outputs": []
    },
    {
      "cell_type": "markdown",
      "metadata": {
        "id": "YgJkRUiNbzUg",
        "colab_type": "text"
      },
      "source": [
        "**Step Six: Load `nyt_bottom` into an Excel file.**\n",
        "\n",
        "\n"
      ]
    },
    {
      "cell_type": "code",
      "metadata": {
        "id": "2x5yqipNPHVo",
        "colab_type": "code",
        "colab": {}
      },
      "source": [
        "nyt_bottom.to_excel(\"nyt_bottom.xlsx\")\n",
        "files.download(\"nyt_bottom.xlsx\")"
      ],
      "execution_count": 0,
      "outputs": []
    },
    {
      "cell_type": "markdown",
      "metadata": {
        "id": "tHKhfJ5ZwZIx",
        "colab_type": "text"
      },
      "source": [
        "# Part 3: Cleaning and Piecing Article Data"
      ]
    },
    {
      "cell_type": "markdown",
      "metadata": {
        "id": "YUs1k2ThpFLY",
        "colab_type": "text"
      },
      "source": [
        "**Step One: Run installations.**"
      ]
    },
    {
      "cell_type": "code",
      "metadata": {
        "id": "M9mCjuC6zLHe",
        "colab_type": "code",
        "colab": {}
      },
      "source": [
        "%%capture\n",
        "!pip install pandasql\n",
        "\n",
        "import re\n",
        "import urllib\n",
        "import sqlite3\n",
        "import pandas as pd\n",
        "import pandasql as ps #SQL on Pandas Dataframe\n",
        "from datetime import datetime\n",
        "from dateutil import parser\n",
        "from sklearn.preprocessing import MultiLabelBinarizer"
      ],
      "execution_count": 0,
      "outputs": []
    },
    {
      "cell_type": "markdown",
      "metadata": {
        "id": "Ajj6jX14vvod",
        "colab_type": "text"
      },
      "source": [
        "**Step Two: Download all Excel files.**"
      ]
    },
    {
      "cell_type": "code",
      "metadata": {
        "id": "Lk_wI5S6wdog",
        "colab_type": "code",
        "colab": {}
      },
      "source": [
        "# Credit: https://projectosyo.wixsite.com/datadoubleconfirm/single-post/2019/04/15/Reading-csv-data-from-Github---Python\n",
        "\n",
        "nyt_dining = pd.read_excel(\"https://github.com/andersthequeen/cis545/blob/master/nyt_dining.xlsx?raw=true\", \n",
        "                           headers = True, index_col = 0)\n",
        "nyt_dining_top = pd.read_excel(\"https://github.com/andersthequeen/cis545/blob/master/nyt_top.xlsx?raw=true\", \n",
        "                           headers = True, index_col = 0)\n",
        "nyt_dining_bottom_1 = pd.read_excel(\"https://github.com/andersthequeen/cis545/blob/master/nyt_bottom_1.xlsx?raw=true\",\n",
        "                                    headers = True, index_col = 0)\n",
        "nyt_dining_bottom_2 = pd.read_excel(\"https://github.com/andersthequeen/cis545/blob/master/nyt_bottom_2.xlsx?raw=true\",\n",
        "                                    headers = True, index_col = 0)"
      ],
      "execution_count": 0,
      "outputs": []
    },
    {
      "cell_type": "markdown",
      "metadata": {
        "id": "-e4IA3pQv0RP",
        "colab_type": "text"
      },
      "source": [
        "**Step Three: Merge Excel files.**\n",
        "\n",
        "Primarily, we merge on the article URL."
      ]
    },
    {
      "cell_type": "code",
      "metadata": {
        "id": "fDWsK4fcy4YL",
        "colab_type": "code",
        "colab": {}
      },
      "source": [
        "nyt_dining_bottom = nyt_dining_bottom_1.append(nyt_dining_bottom_2, ignore_index = True)\n",
        "nyt_articles = ps.sqldf('''\n",
        "SELECT * FROM nyt_dining_top\n",
        "INNER JOIN nyt_dining_bottom\n",
        "ON nyt_dining_top.URL == nyt_dining_bottom.URL\n",
        "''')\n",
        "nyt_articles = nyt_articles.loc[:,~nyt_articles.columns.duplicated()]\n",
        "nyt_dining = ps.sqldf('''\n",
        "SELECT * FROM nyt_dining\n",
        "INNER JOIN nyt_articles\n",
        "ON nyt_dining.URL == nyt_articles.URL\n",
        "''')\n",
        "nyt_dining = nyt_dining.loc[:,~nyt_dining.columns.duplicated()]"
      ],
      "execution_count": 0,
      "outputs": []
    },
    {
      "cell_type": "markdown",
      "metadata": {
        "id": "Qkh1HA6Kv6Ht",
        "colab_type": "text"
      },
      "source": [
        "**Step Four: Drop the URL and time columns.**\n",
        "\n",
        "The time column, I found out, was redundant since we already have the *date* column. For our model, I am presuming that the URL of the article has zero to no impact on the rating that it bestowed upon it."
      ]
    },
    {
      "cell_type": "code",
      "metadata": {
        "id": "OA0jXfTukkHF",
        "colab_type": "code",
        "colab": {}
      },
      "source": [
        "nyt_dining = nyt_dining.drop(columns = ['URL', 'time'])"
      ],
      "execution_count": 0,
      "outputs": []
    },
    {
      "cell_type": "markdown",
      "metadata": {
        "id": "Oe1_Z92-v-rd",
        "colab_type": "text"
      },
      "source": [
        "**Step Five: One-Hot-Encode the servesCuisine, addressLocality and author columns.**\n",
        "\n",
        "One-hot-encoding these columns *will* add hundreds of columns to the dataframe... but no worries!"
      ]
    },
    {
      "cell_type": "code",
      "metadata": {
        "id": "ANXoHVUxkmqp",
        "colab_type": "code",
        "colab": {}
      },
      "source": [
        "def servesCuisine(x):\n",
        "  if x is not None:\n",
        "    return x.split(',')\n",
        "  else:\n",
        "    return None\n",
        "nyt_dining['servesCuisine'] = nyt_dining['servesCuisine'].apply(lambda x: servesCuisine(x))\n",
        "nyt_dining_cuisine = pd.get_dummies(nyt_dining['servesCuisine'].apply(pd.Series).stack()).sum(level = 0)\n",
        "nyt_dining_cuisine = nyt_dining_cuisine.rename(columns = lambda x: x.strip())\n",
        "nyt_dining_cuisine = nyt_dining_cuisine.groupby(by = nyt_dining_cuisine.columns, axis = 1).sum()\n",
        "nyt_dining_cuisine = nyt_dining_cuisine.astype(int)\n",
        "nyt_dining = nyt_dining.join(nyt_dining_cuisine)\n",
        "nyt_dining = nyt_dining.drop(columns = ['servesCuisine'])"
      ],
      "execution_count": 0,
      "outputs": []
    },
    {
      "cell_type": "code",
      "metadata": {
        "id": "dRoyPJSvj7rh",
        "colab_type": "code",
        "colab": {}
      },
      "source": [
        "nyt_dining = pd.get_dummies(data = nyt_dining, \n",
        "                            columns = ['addressLocality', 'author'], \n",
        "                            prefix = '', prefix_sep='')"
      ],
      "execution_count": 0,
      "outputs": []
    },
    {
      "cell_type": "markdown",
      "metadata": {
        "id": "S83csQdiwG_D",
        "colab_type": "text"
      },
      "source": [
        "**Step Six: Alter the priceRange column to convert $ into numbers.**\n",
        "\n",
        "Enumerating the number of dollar signs, e.g. representing \"$$$\" as \"3.0\" allows the machine learning model to run smoother."
      ]
    },
    {
      "cell_type": "code",
      "metadata": {
        "id": "xCXFnEJHhSIG",
        "colab_type": "code",
        "colab": {}
      },
      "source": [
        "def priceRange(x):\n",
        "  if x is not None:\n",
        "    return int(len(x.strip()))\n",
        "  else:\n",
        "    return None\n",
        "nyt_dining['priceRange'] = nyt_dining['priceRange'].apply(lambda x: priceRange(x))"
      ],
      "execution_count": 0,
      "outputs": []
    },
    {
      "cell_type": "markdown",
      "metadata": {
        "id": "HadkEgtuwMyO",
        "colab_type": "text"
      },
      "source": [
        "**Step Seven: Change the date column to datetype.**\n"
      ]
    },
    {
      "cell_type": "code",
      "metadata": {
        "id": "a4ryTUghX-lv",
        "colab_type": "code",
        "colab": {}
      },
      "source": [
        "nyt_dining['date'] = nyt_dining['date'].apply(lambda x: parser.parse(x))"
      ],
      "execution_count": 0,
      "outputs": []
    },
    {
      "cell_type": "markdown",
      "metadata": {
        "id": "tLJG6OIYwjID",
        "colab_type": "text"
      },
      "source": [
        "**Step Eight: Extract numbers from the rating column.**\n",
        "\n",
        "Currently, the rating column is a little bit messy."
      ]
    },
    {
      "cell_type": "code",
      "metadata": {
        "id": "JmzFLXcbdF9n",
        "colab_type": "code",
        "colab": {}
      },
      "source": [
        "def rating(x):\n",
        "  if x is not None:\n",
        "    x = x.strip()\n",
        "    if len(x) < 20:\n",
        "      nums = re.findall(r'\\d+', x)\n",
        "      if len(nums) == 1:\n",
        "        return float(nums[0])\n",
        "      elif len(nums) == 2:\n",
        "        return (float(nums[0] + '.' + nums[1]))\n",
        "      else:\n",
        "        return 0.0\n",
        "    else:\n",
        "      return 0.0\n",
        "  else:\n",
        "    return 0.0\n",
        "nyt_dining['rating'] = nyt_dining['rating'].apply(lambda x: rating(x))"
      ],
      "execution_count": 0,
      "outputs": []
    },
    {
      "cell_type": "markdown",
      "metadata": {
        "id": "tlCFMRNIwoYO",
        "colab_type": "text"
      },
      "source": [
        "**Step Nine: Change nytPick into a boolean type.**\n",
        "\n",
        "Basically, *nytPick* represents whether or not the restaurant is \"New York Times\" approved or not. If it is approved, then the boolean should be *true* and if it is not, then *false.*"
      ]
    },
    {
      "cell_type": "code",
      "metadata": {
        "id": "OlqClt4qwvi_",
        "colab_type": "code",
        "colab": {}
      },
      "source": [
        "def nytPick(x):\n",
        "  if x is not None:\n",
        "    if \"NYT\" in x:\n",
        "      return True\n",
        "  return False\n",
        "nyt_dining['nytPick'] = nyt_dining['nytPick'].apply(lambda x: nytPick(x))"
      ],
      "execution_count": 0,
      "outputs": []
    },
    {
      "cell_type": "markdown",
      "metadata": {
        "id": "lwT1JhDqymAb",
        "colab_type": "text"
      },
      "source": [
        "**Step Ten: Run VADER sentiment analysis on the `body` and `atmosphere` columns.**\n",
        "\n",
        "Credit: https://www.nltk.org/_modules/nltk/sentiment/vader.html\n",
        "\n",
        "The VADER sentiment analyzer takes in tokenized sentences, and outputs a value between -1 and 1. The closer to -1, the more negative the sentence. The closer to 1, the more positive the sentence is implicated to be. Because both the `body` and `atmosphere` columns are heavily text-based but rich with information, I wanted to codify the text into \"positive\" or negative\" text using the VADER sentiment analyzer."
      ]
    },
    {
      "cell_type": "code",
      "metadata": {
        "id": "uPAT3XmH2hPZ",
        "colab_type": "code",
        "colab": {}
      },
      "source": [
        "# Credit: https://www.nltk.org/_modules/nltk/sentiment/vader.html\n",
        "import nltk\n",
        "import string\n",
        "nltk.download('punkt')\n",
        "nltk.download('words')\n",
        "nltk.download('vader_lexicon')\n",
        "nltk.download('stopwords')\n",
        "from nltk import tokenize\n",
        "from nltk.corpus import words\n",
        "from google.colab import files\n",
        "from collections import Counter\n",
        "from nltk.corpus import stopwords \n",
        "from nltk.sentiment.vader import SentimentIntensityAnalyzer\n",
        "sid = SentimentIntensityAnalyzer()"
      ],
      "execution_count": 0,
      "outputs": []
    },
    {
      "cell_type": "markdown",
      "metadata": {
        "id": "ofePK-DkzM9z",
        "colab_type": "text"
      },
      "source": [
        "Both `sent_scorer_reg` and `sent_scorer_neg` take in a chunk of text and spit out its sentiment score across all its sentences. The difference between `sent_scorer_reg` and `sent_scorer_neg` is that `sent_scorer_neg` more heavily penalizes body text for containing negative sentences."
      ]
    },
    {
      "cell_type": "code",
      "metadata": {
        "id": "O4kgQsiyG2Eb",
        "colab_type": "code",
        "colab": {}
      },
      "source": [
        "def sent_scorer_reg(body):\n",
        "  if body is None:\n",
        "    return 0.0\n",
        "  sentences = tokenize.sent_tokenize(body)\n",
        "  if len(sentences) < 1:\n",
        "    return 0.0\n",
        "  total_score = 0.0\n",
        "  for sentence in sentences:\n",
        "    ss = sid.polarity_scores(sentence)\n",
        "    total_score += ss.get('compound')\n",
        "  return total_score / len(sentences)"
      ],
      "execution_count": 0,
      "outputs": []
    },
    {
      "cell_type": "code",
      "metadata": {
        "id": "kXmOaJuNIlce",
        "colab_type": "code",
        "colab": {}
      },
      "source": [
        "def sent_scorer_neg(body):\n",
        "  if body is None:\n",
        "    return 0.0\n",
        "  sentences = tokenize.sent_tokenize(body)\n",
        "  if len(sentences) < 1:\n",
        "    return 0.0\n",
        "  total_score = 0.0\n",
        "  for sentence in sentences:\n",
        "    ss = sid.polarity_scores(sentence)\n",
        "    score = 0.0\n",
        "    if ss.get('compound') < 0:\n",
        "      score = ss.get('compound') * 3\n",
        "    else:\n",
        "      score = ss.get('compound')\n",
        "    total_score += score\n",
        "  return total_score / len(sentences)"
      ],
      "execution_count": 0,
      "outputs": []
    },
    {
      "cell_type": "markdown",
      "metadata": {
        "id": "cp25doMgzgZS",
        "colab_type": "text"
      },
      "source": [
        "In a rather unfashionable approach, I apply the functions established above onto each column, and then insert the columns manually into the `nyt_dining` dataframe."
      ]
    },
    {
      "cell_type": "code",
      "metadata": {
        "id": "y0hL2P-SH0Rm",
        "colab_type": "code",
        "colab": {}
      },
      "source": [
        "body_sentiment_reg = nyt_dining['body'].apply(lambda x: sent_scorer_reg(x))"
      ],
      "execution_count": 0,
      "outputs": []
    },
    {
      "cell_type": "code",
      "metadata": {
        "id": "uOi-fgmCIz95",
        "colab_type": "code",
        "colab": {}
      },
      "source": [
        "body_sentiment_neg = nyt_dining['body'].apply(lambda x: sent_scorer_neg(x))"
      ],
      "execution_count": 0,
      "outputs": []
    },
    {
      "cell_type": "code",
      "metadata": {
        "id": "a6sZ6WGWJ1wZ",
        "colab_type": "code",
        "colab": {}
      },
      "source": [
        "nyt_dining.insert(loc = 7, column = 'body_sentiment_reg', value = body_sentiment_reg)"
      ],
      "execution_count": 0,
      "outputs": []
    },
    {
      "cell_type": "code",
      "metadata": {
        "id": "m6QPPWwDKKLO",
        "colab_type": "code",
        "colab": {}
      },
      "source": [
        "nyt_dining.insert(loc = 8, column = 'body_sentiment_neg', value = body_sentiment_neg)"
      ],
      "execution_count": 0,
      "outputs": []
    },
    {
      "cell_type": "code",
      "metadata": {
        "id": "XIAym3FNKueg",
        "colab_type": "code",
        "colab": {}
      },
      "source": [
        "atmosphere_sentiment = nyt_dining['atmosphere'].apply(lambda x: sent_scorer_reg(x))"
      ],
      "execution_count": 0,
      "outputs": []
    },
    {
      "cell_type": "code",
      "metadata": {
        "id": "j48vw403Lb8W",
        "colab_type": "code",
        "colab": {}
      },
      "source": [
        "nyt_dining.insert(loc = 10, column = 'atmosphere_sentiment', value = atmosphere_sentiment)"
      ],
      "execution_count": 0,
      "outputs": []
    },
    {
      "cell_type": "code",
      "metadata": {
        "id": "lizq6BDnPEWj",
        "colab_type": "code",
        "colab": {}
      },
      "source": [
        "nyt_dining = nyt_dining.drop(columns = ['body', 'atmosphere'])"
      ],
      "execution_count": 0,
      "outputs": []
    },
    {
      "cell_type": "markdown",
      "metadata": {
        "id": "rEYoX9cVzqYW",
        "colab_type": "text"
      },
      "source": [
        "**Step Eleven: One-Hot-Encoding the noise column.**\n",
        "\n",
        "Because the noise column is also filled with words, I wanted to take out key words and find which restaurants had words inside their \"noise\" description that matched the key words. Ultimately, after manually looking through a list of most common words throughout all the \"noise\" text, I settled on these nine key words:\n",
        "\n",
        "`['loud', 'peak', 'music', 'conversation', 'low', 'noise', 'moderate', 'quiet', 'serene']`\n",
        "\n",
        "Thus, if a restaurant's noise description contained the word `low` in it, that restaurant would be codified as \"1\" for the `low` column. If not, then it would be codified as \"0.\""
      ]
    },
    {
      "cell_type": "code",
      "metadata": {
        "id": "Gu9HLJi4QIbD",
        "colab_type": "code",
        "colab": {}
      },
      "source": [
        "# STEP TEN: One-Hot-Encoding the noise column\n",
        "noise_paragraph = ''\n",
        "for x in nyt_dining['noise']:\n",
        "  if x is not None:\n",
        "    noise_paragraph += ' ' + x\n",
        "noise_paragraph = tokenize.word_tokenize(noise_paragraph)\n",
        "noise_words_filtered = []\n",
        "setofwords = set(words.words())\n",
        "for word in noise_paragraph:\n",
        "  if word in setofwords:\n",
        "    noise_words_filtered.append(word)\n",
        "frequent_noise_words = Counter(noise_words_filtered)\n",
        "frequent_noise_words = ['loud', 'peak', 'music', 'conversation', 'low', 'noise', 'moderate', 'quiet', 'serene']"
      ],
      "execution_count": 0,
      "outputs": []
    },
    {
      "cell_type": "code",
      "metadata": {
        "id": "0CC52a95beEJ",
        "colab_type": "code",
        "colab": {}
      },
      "source": [
        "def noise_list(text):\n",
        "  noise_list = []\n",
        "  if text is not None:\n",
        "    for word in frequent_noise_words:\n",
        "      if word in text:\n",
        "        noise_list.append(word)\n",
        "  return noise_list\n",
        "nyt_dining['noise'] = nyt_dining['noise'].apply(lambda x: noise_list(x))\n",
        "nyt_dining_noise = pd.get_dummies(nyt_dining['noise'].apply(pd.Series).stack()).sum(level = 0)\n",
        "nyt_dining_noise = nyt_dining_noise.rename(columns = lambda x: x.strip())\n",
        "nyt_dining_noise = nyt_dining_noise.groupby(by = nyt_dining_noise.columns, axis = 1).sum()\n",
        "nyt_dining = pd.merge(nyt_dining, nyt_dining_noise, left_index = True, \n",
        "                      right_index = True, how = 'left')\n",
        "nyt_dining[['conversation', 'loud', 'low', 'moderate', 'music', 'noise_y',\n",
        "            'peak', 'quiet']] = nyt_dining[['conversation', 'loud', 'low',\n",
        "                                            'moderate', 'music', 'noise_y',\n",
        "                                            'peak', 'quiet']].fillna(value = 0)\n",
        "nyt_dining = nyt_dining.drop(columns = ['noise_x'])"
      ],
      "execution_count": 0,
      "outputs": []
    },
    {
      "cell_type": "markdown",
      "metadata": {
        "id": "DYXajz-A0OGh",
        "colab_type": "text"
      },
      "source": [
        "**Step Twelve: Counting the number of dishes suggested.**\n",
        "\n",
        "The dishes column is essentially a list of top recommended dishes. Because I had the idea that the better the restaurant the more likely the reviewer would recommend more dishes, I decided to codify the `dishes` column into the number of dishes suggested. This I achieved by counting the number of columns."
      ]
    },
    {
      "cell_type": "code",
      "metadata": {
        "id": "UYFTVMjMoqWf",
        "colab_type": "code",
        "colab": {}
      },
      "source": [
        "def comma_counter(text):\n",
        "  if text is not None:\n",
        "    return text.count(',')\n",
        "  else:\n",
        "    return 0\n",
        "nyt_dining['dishes'] = nyt_dining['dishes'].apply(lambda x: comma_counter(x))"
      ],
      "execution_count": 0,
      "outputs": []
    },
    {
      "cell_type": "markdown",
      "metadata": {
        "id": "Q_GNF2U40nTQ",
        "colab_type": "text"
      },
      "source": [
        "**Step Thirteen: Does the restaurant offer drinks and ADA access?**\n",
        "\n",
        "If the restaurant review contained a section on either drinks or access, then the restaurant offered drinks and ADA access respectively. So, I codified the `drinks` and `access` columns as booleans."
      ]
    },
    {
      "cell_type": "code",
      "metadata": {
        "id": "-Flou5nHpk-E",
        "colab_type": "code",
        "colab": {}
      },
      "source": [
        "nyt_dining['drinks'] = nyt_dining['drinks'].apply(lambda x: True if x is not None else False)\n",
        "nyt_dining['access'] = nyt_dining['access'].apply(lambda x: True if x is not None else False)"
      ],
      "execution_count": 0,
      "outputs": []
    },
    {
      "cell_type": "markdown",
      "metadata": {
        "id": "y19ZZciY067A",
        "colab_type": "text"
      },
      "source": [
        "**Step Thirteen: When is the restaurant open?**\n",
        "\n",
        "Similar to how I broke down the `noise` column, I checked for key words in the `hours` description of each article and one-hot-encoded the key words."
      ]
    },
    {
      "cell_type": "code",
      "metadata": {
        "id": "NIN_sya2q9R0",
        "colab_type": "code",
        "colab": {}
      },
      "source": [
        "hours_paragraph = ''\n",
        "for x in nyt_dining['hours']:\n",
        "  if x is not None:\n",
        "    hours_paragraph += ' ' + x\n",
        "hours_paragraph = tokenize.word_tokenize(hours_paragraph)\n",
        "hours_words_filtered = []\n",
        "setofwords = set(words.words())\n",
        "for word in hours_paragraph:\n",
        "  if word in setofwords:\n",
        "    hours_words_filtered.append(word)\n",
        "frequent_hours_words = Counter(hours_words_filtered)\n",
        "frequent_hours_words = ['dinner', 'lunch', 'Sunday', 'Saturday', 'Monday',\n",
        "                        'Tuesday', 'Friday', 'brunch', 'breakfast', 'Thursday',\n",
        "                        'Wednesday', 'daily', 'midnight', 'early', 'noon']"
      ],
      "execution_count": 0,
      "outputs": []
    },
    {
      "cell_type": "code",
      "metadata": {
        "id": "B-IsNViU1UXg",
        "colab_type": "code",
        "colab": {}
      },
      "source": [
        "def hours_list(text):\n",
        "  hours_list = []\n",
        "  if text is not None:\n",
        "    for word in frequent_hours_words:\n",
        "      if word in text:\n",
        "        hours_list.append(word)\n",
        "  return hours_list\n",
        "nyt_dining['hours'] = nyt_dining['hours'].apply(lambda x: hours_list(x))\n",
        "nyt_dining_hours = pd.get_dummies(nyt_dining['hours'].apply(pd.Series).stack()).sum(level = 0)\n",
        "nyt_dining_hours = nyt_dining_hours.rename(columns = lambda x: x.strip())\n",
        "nyt_dining_hours = nyt_dining_hours.groupby(by = nyt_dining_hours.columns, axis = 1).sum()\n",
        "nyt_dining = pd.merge(nyt_dining, nyt_dining_hours, left_index = True, \n",
        "                      right_index = True, how = 'left')\n",
        "nyt_dining[['dinner', 'lunch', 'Sunday', 'Saturday', 'Monday', 'Tuesday', 'Friday', \n",
        "            'brunch', 'breakfast', 'Thursday', 'Wednesday', 'daily', 'midnight', \n",
        "            'early', 'noon']] = nyt_dining[['dinner', 'lunch', 'Sunday', 'Saturday', \n",
        "                                            'Monday', 'Tuesday', 'Friday', 'brunch', \n",
        "                                            'breakfast', 'Thursday', 'Wednesday', \n",
        "                                            'daily', 'midnight', 'early', 'noon']].fillna(value = 0)\n",
        "nyt_dining = nyt_dining.drop(columns = ['hours'])"
      ],
      "execution_count": 0,
      "outputs": []
    },
    {
      "cell_type": "markdown",
      "metadata": {
        "id": "gWS1jlbt3dN6",
        "colab_type": "text"
      },
      "source": [
        "**Step Fourteen: Are reservations taken?**\n",
        "\n",
        "Either reservations were taken - in which case the word *not* would not appear in the `reservations` description - or they weren't taken, in which case the word *not* would appear in the `reservations` description."
      ]
    },
    {
      "cell_type": "code",
      "metadata": {
        "id": "OCJA9AJgeQCY",
        "colab_type": "code",
        "colab": {}
      },
      "source": [
        "# STEP FOURTEEN: Are reservations taken?\n",
        "def reservations_taken(x):\n",
        "  if x is not None:\n",
        "    x = x.lower()\n",
        "    if 'not' in x:\n",
        "      return False\n",
        "    else:\n",
        "      return True\n",
        "  else:\n",
        "    return True\n",
        "nyt_dining['reservations'] = nyt_dining['reservations'].apply(lambda x: reservations_taken(x))"
      ],
      "execution_count": 0,
      "outputs": []
    },
    {
      "cell_type": "markdown",
      "metadata": {
        "id": "7UV4tEOb3veR",
        "colab_type": "text"
      },
      "source": [
        "**Step Fifteen: Checkpoint and download the cleaned dataframe into Excel.**"
      ]
    },
    {
      "cell_type": "code",
      "metadata": {
        "id": "JFbDk8oX2XT8",
        "colab_type": "code",
        "colab": {}
      },
      "source": [
        "nyt_dining.to_excel(\"nyt_dining_clean.xlsx\")\n",
        "files.download(\"nyt_dining_clean.xlsx\")"
      ],
      "execution_count": 0,
      "outputs": []
    },
    {
      "cell_type": "markdown",
      "metadata": {
        "id": "TcobhaDUYEtp",
        "colab_type": "text"
      },
      "source": [
        "### Table Adjustments\n",
        "\n",
        "Because the `nyt_dining` dataframe downloaded doesn't exactly run perfectly through all machine learning models, some last-minute touchups have to be made here before moving on to Part Four."
      ]
    },
    {
      "cell_type": "markdown",
      "metadata": {
        "id": "ESl9VdQU40D2",
        "colab_type": "text"
      },
      "source": [
        "**Step One: Set datetime and NA values.**\n",
        "\n",
        "Because dates don't work quite well in machine learaning models, encoding them as numerical `month`, `year` and `day` values makes the entire affair much easier. We also fill all columns with null values with \"0.0\" to simplify things."
      ]
    },
    {
      "cell_type": "code",
      "metadata": {
        "id": "wFpLd-GI4tTI",
        "colab_type": "code",
        "colab": {}
      },
      "source": [
        "nyt_dining = pd.read_excel(\"https://github.com/andersthequeen/cis545/blob/master/nyt_dining_clean.xlsx?raw=true\", \n",
        "                           headers = True, index_col = 0)\n",
        "nyt_dining['photo'] = nyt_dining['photo'].fillna(value = 0.0)\n",
        "nyt_dining = nyt_dining.set_index('Restaurant')\n",
        "nyt_dining['article_year'] = nyt_dining['date'].dt.year\n",
        "nyt_dining['article_month'] = nyt_dining['date'].dt.month\n",
        "nyt_dining['article_day'] = nyt_dining['date'].dt.day\n",
        "nyt_dining = nyt_dining.drop(columns = ['date'])\n",
        "nyt_dining = nyt_dining.fillna(0)"
      ],
      "execution_count": 0,
      "outputs": []
    },
    {
      "cell_type": "markdown",
      "metadata": {
        "id": "ZF3XXSax5NTM",
        "colab_type": "text"
      },
      "source": [
        "**Step Two: Adjust the non-rating values.**\n",
        "\n",
        "Each article has several different ratings, listed below:\n",
        "* 4.00 stars — or Extraordinary\n",
        "* 3.00 stars — or Excellent\n",
        "* 2.00 stars — or Very Good\n",
        "* 1.00 stars — or Good\n",
        "* 0.00 stars — or No Rating\n",
        "* 0.75 stars — or Satisfactory\n",
        "* 0.50 stars — or Fair\n",
        "* 0.25 stars — or Poor\n",
        "\n",
        "A key assumption I made was that articles that were not rated were good enough that they were better than Satisfactory, but not good enough to warrant a star. This assumption came from various articles that I read, and understanding that a \"Satisfactory\" review was not actually a positive review. Thus, an article with no rating would be better than an article with a \"Satisfactory\" rating. Therefore, I encoded the \"No Rating\" articles with a value of `0.89`.\n",
        "\n"
      ]
    },
    {
      "cell_type": "code",
      "metadata": {
        "id": "QgUXGc2K9tJX",
        "colab_type": "code",
        "colab": {}
      },
      "source": [
        "# 1. Get the number of rows per rating\n",
        "# 2. Divide it by 780\n",
        "# 3. Run the for loop to the number, append the block that many times\n",
        "rating_dict = {0.25: 3, 0.5: 9, 0.75: 18, 1: 203, 2: 237, 3: 61, 4: 3}\n",
        "for key in rating_dict:\n",
        "  nyt_rating = nyt_dining.loc[nyt_dining['rating'] == key]\n",
        "  for i in range(0, int(780 / rating_dict.get(key) - 1)):\n",
        "    nyt_dining = nyt_dining.append(nyt_rating)"
      ],
      "execution_count": 0,
      "outputs": []
    },
    {
      "cell_type": "code",
      "metadata": {
        "id": "nfnfVIKvNYKl",
        "colab_type": "code",
        "colab": {}
      },
      "source": [
        "def normalize_0(x):\n",
        "  if x == 0.00:\n",
        "    return 0.89\n",
        "  else:\n",
        "    return x\n",
        "nyt_dining['rating'] = nyt_dining['rating'].apply(lambda x: normalize_0(x))"
      ],
      "execution_count": 0,
      "outputs": []
    },
    {
      "cell_type": "code",
      "metadata": {
        "id": "w5hJinUt3pAZ",
        "colab_type": "code",
        "colab": {}
      },
      "source": [
        "# Adjust for ratings imbalance\n",
        "nyt_ratings = nyt_dining.groupby('rating').agg('count')\n",
        "nyt_ratings"
      ],
      "execution_count": 0,
      "outputs": []
    },
    {
      "cell_type": "code",
      "metadata": {
        "id": "ZASuRnH-UPH2",
        "colab_type": "code",
        "colab": {}
      },
      "source": [
        "nyt_dining.groupby('rating').agg('count')"
      ],
      "execution_count": 0,
      "outputs": []
    },
    {
      "cell_type": "code",
      "metadata": {
        "id": "NDCxhqybXub8",
        "colab_type": "code",
        "colab": {}
      },
      "source": [
        "nyt_dining.to_excel(\"nyt_dining_clean.xlsx\")\n",
        "files.download(\"nyt_dining_clean.xlsx\")"
      ],
      "execution_count": 0,
      "outputs": []
    },
    {
      "cell_type": "markdown",
      "metadata": {
        "id": "GwixkYCS41r_",
        "colab_type": "text"
      },
      "source": [
        "# Part 4: Implementing Machine Learning"
      ]
    },
    {
      "cell_type": "markdown",
      "metadata": {
        "id": "nNis3fem33x7",
        "colab_type": "text"
      },
      "source": [
        "As part of the project, I implemented five different kinds of models. Each of the models contain their own point of evaluation, which I've also listed alongside the model:\n",
        "1. Simple Linear Regression – RMSE\n",
        "2. Random Forest Regression – RMSE\n",
        "3. PCA + Linear Regression – RMSE\n",
        "4. Random Forest Classification – Accuracy\n",
        "5. Keras Neural Network – Accuracy\n",
        "\n",
        "Each model had their own benefits and drawbacks, but for the most part the more \"complex\" models worked better at predicting the article ratings than the \"simpler\" models. Below, the first step is to configure Java 8 as well as import a couple necessary items."
      ]
    },
    {
      "cell_type": "markdown",
      "metadata": {
        "id": "qnRVMhT26wNj",
        "colab_type": "text"
      },
      "source": [
        "### Necessary Imports"
      ]
    },
    {
      "cell_type": "code",
      "metadata": {
        "id": "jCpWkdre6UdW",
        "colab_type": "code",
        "colab": {}
      },
      "source": [
        "%%capture\n",
        "!pip install pandasql\n",
        "\n",
        "from sklearn.model_selection import train_test_split\n",
        "from sklearn.ensemble import RandomForestRegressor\n",
        "from sklearn.linear_model import LinearRegression\n",
        "from sklearn.model_selection import GridSearchCV\n",
        "from sklearn.preprocessing import StandardScaler\n",
        "from sklearn.metrics import mean_squared_error\n",
        "from sklearn import datasets, linear_model\n",
        "from sklearn.metrics import accuracy_score\n",
        "from sklearn.decomposition import PCA\n",
        "from datetime import datetime as dt\n",
        "import matplotlib.pyplot as plt\n",
        "from google.colab import files\n",
        "from datetime import datetime\n",
        "from matplotlib import cm\n",
        "import seaborn as sns\n",
        "import pandasql as ps\n",
        "import pandas as pd\n",
        "import numpy as np\n",
        "import matplotlib\n",
        "import glob"
      ],
      "execution_count": 0,
      "outputs": []
    },
    {
      "cell_type": "markdown",
      "metadata": {
        "id": "OeVShY4rCSGr",
        "colab_type": "text"
      },
      "source": [
        "### Load in `nyt_dining` and its label and features\n"
      ]
    },
    {
      "cell_type": "code",
      "metadata": {
        "id": "TAnOx0QKZT_Y",
        "colab_type": "code",
        "colab": {}
      },
      "source": [
        "nyt_dining = pd.read_excel(\"https://github.com/andersthequeen/cis545/blob/master/nyt_dining_clean.xlsx?raw=true\", \n",
        "                           headers = True, index_col = 0)\n",
        "label = nyt_dining.rating\n",
        "features = nyt_dining.drop(columns = ['rating'])\n",
        "# Credit: https://towardsdatascience.com/train-test-split-and-cross-validation-in-python-80b61beca4b6\n",
        "x_train, x_test, y_train, y_test = train_test_split(features, label, \n",
        "                                                    test_size = 0.2)"
      ],
      "execution_count": 0,
      "outputs": []
    },
    {
      "cell_type": "markdown",
      "metadata": {
        "id": "CZU2KPJ7ZPMY",
        "colab_type": "text"
      },
      "source": [
        "### Model One: Simple Linear Regression\n",
        "\n",
        "For the simple linear regression model, I divided up `nyt_dining` into `label` and `features`, where the `features` included the `rating` column and the `label` columns included everything but.\n",
        "\n",
        "Using `train_test_split` and then the `LinearRegression()` model yields a a `mean_squared_error` of approximately 0.3197."
      ]
    },
    {
      "cell_type": "code",
      "metadata": {
        "id": "nzLQXNyf6faM",
        "colab_type": "code",
        "colab": {}
      },
      "source": [
        "regr = linear_model.LinearRegression()\n",
        "regr.fit(x_train, y_train)\n",
        "y_pred = regr.predict(x_test)\n",
        "print(mean_squared_error(y_test, y_pred))"
      ],
      "execution_count": 0,
      "outputs": []
    },
    {
      "cell_type": "markdown",
      "metadata": {
        "id": "qrh9vwyVCp9M",
        "colab_type": "text"
      },
      "source": [
        "### Model Two: Random Forest Regression"
      ]
    },
    {
      "cell_type": "code",
      "metadata": {
        "id": "6_DejWqksOE1",
        "colab_type": "code",
        "colab": {}
      },
      "source": [
        "from sklearn.ensemble import RandomForestRegressor\n",
        "from sklearn.model_selection import GridSearchCV"
      ],
      "execution_count": 0,
      "outputs": []
    },
    {
      "cell_type": "markdown",
      "metadata": {
        "id": "uUlr_cZ2CxL-",
        "colab_type": "text"
      },
      "source": [
        "**Step One: PCA fit-transform.**\n",
        "\n",
        "Using PCA fit-transform on the data allows me to figure out how many components I should include in the final Random Forest Regression model."
      ]
    },
    {
      "cell_type": "code",
      "metadata": {
        "id": "AtBjs_Pg9ymm",
        "colab_type": "code",
        "outputId": "547323f9-550a-4a9d-8fe2-bea0b1602f9a",
        "colab": {
          "base_uri": "https://localhost:8080/",
          "height": 282
        }
      },
      "source": [
        "# Credit: https://colab.research.google.com/drive/1IwLI6jBEd6KVqXyNGMocGN8zHHyT7qx1\n",
        "X2 = StandardScaler().fit_transform(x_train)\n",
        "pca = PCA(n_components = 302)\n",
        "X2 = pca.fit_transform(X2)\n",
        "pca.explained_variance_ratio_\n",
        "\n",
        "pca_vs_variance = np.cumsum(pca.explained_variance_ratio_)\n",
        "pca_vs_variance\n",
        "plt.xticks(np.arange(0, 302, 20.0))\n",
        "sns.axes_style(\"darkgrid\")\n",
        "sns.lineplot(data = pca_vs_variance)"
      ],
      "execution_count": 5,
      "outputs": [
        {
          "output_type": "execute_result",
          "data": {
            "text/plain": [
              "<matplotlib.axes._subplots.AxesSubplot at 0x7f407f654780>"
            ]
          },
          "metadata": {
            "tags": []
          },
          "execution_count": 5
        },
        {
          "output_type": "display_data",
          "data": {
            "image/png": "[encoded data removed]",
            "text/plain": [
              "<Figure size 432x288 with 1 Axes>"
            ]
          },
          "metadata": {
            "tags": [],
            "needs_background": "light"
          }
        }
      ]
    },
    {
      "cell_type": "code",
      "metadata": {
        "id": "6m_-TL2__rB5",
        "colab_type": "code",
        "outputId": "f1f8e7c0-b085-4ace-d760-bb39d595499c",
        "colab": {
          "base_uri": "https://localhost:8080/",
          "height": 282
        }
      },
      "source": [
        "X2 = StandardScaler().fit_transform(x_train)\n",
        "pca2 = PCA(n_components = 200)\n",
        "X2 = pca2.fit_transform(X2)\n",
        "pca2.explained_variance_ratio_\n",
        "\n",
        "pca2_vs_variance = np.cumsum(pca2.explained_variance_ratio_)\n",
        "pca2_vs_variance\n",
        "plt.xticks(np.arange(0, 201, 20.0))\n",
        "plt.yticks(np.arange(0, 1.1, 0.1))\n",
        "sns.axes_style(\"darkgrid\")\n",
        "sns.lineplot(data = pca2_vs_variance)"
      ],
      "execution_count": 6,
      "outputs": [
        {
          "output_type": "execute_result",
          "data": {
            "text/plain": [
              "<matplotlib.axes._subplots.AxesSubplot at 0x7f407ccf9c18>"
            ]
          },
          "metadata": {
            "tags": []
          },
          "execution_count": 6
        },
        {
          "output_type": "display_data",
          "data": {
            "image/png": "[encoded data removed]",
            "text/plain": [
              "<Figure size 432x288 with 1 Axes>"
            ]
          },
          "metadata": {
            "tags": [],
            "needs_background": "light"
          }
        }
      ]
    },
    {
      "cell_type": "markdown",
      "metadata": {
        "id": "y810D4yrDHkN",
        "colab_type": "text"
      },
      "source": [
        "**Step Two: Tuning the Hyperparameters.**\n",
        "\n",
        "The two hyperparameters I tuned were `max_depth` and `n_estimators`. In the end, `GridSearchCV` with cross-validation of 3 segments suggests that using an `n_estimators` of 700 with a `max_depth` of 5 will provide better results."
      ]
    },
    {
      "cell_type": "code",
      "metadata": {
        "id": "8rGevyxZx9hn",
        "colab_type": "code",
        "colab": {}
      },
      "source": [
        "param_grid = {\n",
        "    'max_depth': [5],\n",
        "    'n_estimators': [300, 500, 700]\n",
        "}"
      ],
      "execution_count": 0,
      "outputs": []
    },
    {
      "cell_type": "code",
      "metadata": {
        "id": "63K1dtuuyAg9",
        "colab_type": "code",
        "colab": {}
      },
      "source": [
        "#Credit: https://towardsdatascience.com/hyperparameter-tuning-the-random-forest-in-python-using-scikit-learn-28d2aa77dd74\n",
        "\n",
        "rf = RandomForestRegressor()\n",
        "grid_search = GridSearchCV(estimator = rf, param_grid = param_grid,\n",
        "                           cv = 3, n_jobs = -1, verbose = 2)\n",
        "grid_search.fit(X2, y_train)\n",
        "grid_search.best_params_"
      ],
      "execution_count": 0,
      "outputs": []
    },
    {
      "cell_type": "markdown",
      "metadata": {
        "id": "eeCbIh8RDaVf",
        "colab_type": "text"
      },
      "source": [
        "**Step Three: Getting the RMSE.**\n",
        "\n",
        "Overall, the RMSE of the Random Forest Regression model was highly improved over the original model. Here, I achieve an RMSE of 0.95. This isn't entirely great, given that the entire option set itself spans between the values of 0.0 and 4.0 — but, I'll take what we can get."
      ]
    },
    {
      "cell_type": "code",
      "metadata": {
        "id": "BhXIaQzPz_Xk",
        "colab_type": "code",
        "outputId": "25cc82f4-a1d6-477f-b917-0d87b0e5e3c4",
        "colab": {
          "base_uri": "https://localhost:8080/",
          "height": 34
        }
      },
      "source": [
        "# Transform the x_test set\n",
        "X2T = StandardScaler().fit_transform(x_test)\n",
        "X2T = pca2.fit_transform(X2T)\n",
        "\n",
        "# Run RandomForestRegressor using the tuned parameters\n",
        "rfr = RandomForestRegressor(n_estimators = 700, max_depth = 5)\n",
        "rfr.fit(X2, y_train)\n",
        "y_pred = rfr.predict(X2T)\n",
        "\n",
        "# Get the MSE of the result\n",
        "np.sqrt(mean_squared_error(y_test, y_pred))\n",
        "\n",
        "# Much better than regular regression!\n",
        "# RMSEs: [0.9007, 1.0556, 0.9034]"
      ],
      "execution_count": 7,
      "outputs": [
        {
          "output_type": "execute_result",
          "data": {
            "text/plain": [
              "0.9033714510442654"
            ]
          },
          "metadata": {
            "tags": []
          },
          "execution_count": 7
        }
      ]
    },
    {
      "cell_type": "markdown",
      "metadata": {
        "id": "dHKJpUPt0lyg",
        "colab_type": "text"
      },
      "source": [
        "### Model Three: PCA + Linear Regression"
      ]
    },
    {
      "cell_type": "markdown",
      "metadata": {
        "id": "3vG3gs87Blw_",
        "colab_type": "text"
      },
      "source": [
        "**Spark Garbage**\n",
        "\n",
        "A lot of Spark Garbage that I imported from a previous homework that I did, necessary to run the Linear Regression Pipeline.\n",
        "\n",
        "Sent the Java Configuration to version 8 [select option 2]."
      ]
    },
    {
      "cell_type": "code",
      "metadata": {
        "id": "8rTRzVoKe6cG",
        "colab_type": "code",
        "colab": {}
      },
      "source": [
        "! sudo apt install openjdk-8-jdk\n",
        "! sudo update-alternatives --config java"
      ],
      "execution_count": 0,
      "outputs": []
    },
    {
      "cell_type": "code",
      "metadata": {
        "id": "bdu3_tFKBZie",
        "colab_type": "code",
        "colab": {
          "base_uri": "https://localhost:8080/",
          "height": 1000
        },
        "outputId": "59b02519-68f2-4efc-f6d8-205a1f4603e7"
      },
      "source": [
        "!apt install libkrb5-dev\n",
        "!wget https://www-us.apache.org/dist/spark/spark-2.4.5/spark-2.4.5-bin-hadoop2.7.tgz\n",
        "!tar xf spark-2.4.5-bin-hadoop2.7.tgz\n",
        "!pip install findspark\n",
        "!pip install sparkmagic\n",
        "!pip install pyspark\n",
        "!pip install pyspark --user\n",
        "!pip install seaborn --user\n",
        "!pip install plotly --user\n",
        "!pip install imageio --user\n",
        "!pip install folium --user\n",
        "!apt update\n",
        "!apt install gcc python-dev libkrb5-dev\n",
        "from pyspark.sql import SparkSession\n",
        "from pyspark.sql.types import *\n",
        "import pyspark.sql.functions as F\n",
        "import os\n",
        "spark = SparkSession.builder.appName('ml-hw4').getOrCreate()\n",
        "%load_ext sparkmagic.magics\n",
        "#graph section\n",
        "import networkx as nx\n",
        "# SQLite RDBMS\n",
        "import sqlite3\n",
        "# Parallel processing\n",
        "# import swifter\n",
        "import pandas as pd\n",
        "# NoSQL DB\n",
        "from pymongo import MongoClient\n",
        "from pymongo.errors import DuplicateKeyError, OperationFailure\n",
        "import os\n",
        "os.environ['SPARK_HOME'] = '/content/spark-2.4.5-bin-hadoop2.7'\n",
        "os.environ[\"JAVA_HOME\"] = \"/usr/lib/jvm/java-8-openjdk-amd64\"\n",
        "import pyspark\n",
        "from pyspark.sql import SQLContext\n",
        "try:\n",
        "    if(spark == None):\n",
        "        spark = SparkSession.builder.appName('Initial').getOrCreate()\n",
        "        sqlContext=SQLContext(spark)\n",
        "except NameError:\n",
        "    spark = SparkSession.builder.appName('Initial').getOrCreate()\n",
        "    sqlContext=SQLContext(spark)"
      ],
      "execution_count": 2,
      "outputs": [
        {
          "output_type": "stream",
          "text": [
            "Reading package lists... Done\n",
            "Building dependency tree       \n",
            "Reading state information... Done\n",
            "The following additional packages will be installed:\n",
            "  comerr-dev krb5-multidev libcom-err2 libgssrpc4 libkadm5clnt-mit11\n",
            "  libkadm5srv-mit11 libkdb5-9\n",
            "Suggested packages:\n",
            "  doc-base krb5-doc krb5-user\n",
            "The following NEW packages will be installed:\n",
            "  comerr-dev krb5-multidev libgssrpc4 libkadm5clnt-mit11 libkadm5srv-mit11\n",
            "  libkdb5-9 libkrb5-dev\n",
            "The following packages will be upgraded:\n",
            "  libcom-err2\n",
            "1 upgraded, 7 newly installed, 0 to remove and 28 not upgraded.\n",
            "Need to get 358 kB of archives.\n",
            "After this operation, 1,992 kB of additional disk space will be used.\n",
            "Get:1 http://archive.ubuntu.com/ubuntu bionic-updates/main amd64 libcom-err2 amd64 1.44.1-1ubuntu1.3 [8,848 B]\n",
            "Get:2 http://archive.ubuntu.com/ubuntu bionic-updates/main amd64 libgssrpc4 amd64 1.16-2ubuntu0.1 [54.2 kB]\n",
            "Get:3 http://archive.ubuntu.com/ubuntu bionic-updates/main amd64 libkdb5-9 amd64 1.16-2ubuntu0.1 [37.2 kB]\n",
            "Get:4 http://archive.ubuntu.com/ubuntu bionic-updates/main amd64 libkadm5srv-mit11 amd64 1.16-2ubuntu0.1 [49.7 kB]\n",
            "Get:5 http://archive.ubuntu.com/ubuntu bionic-updates/main amd64 libkadm5clnt-mit11 amd64 1.16-2ubuntu0.1 [38.2 kB]\n",
            "Get:6 http://archive.ubuntu.com/ubuntu bionic-updates/main amd64 comerr-dev amd64 2.1-1.44.1-1ubuntu1.3 [38.5 kB]\n",
            "Get:7 http://archive.ubuntu.com/ubuntu bionic-updates/main amd64 krb5-multidev amd64 1.16-2ubuntu0.1 [120 kB]\n",
            "Get:8 http://archive.ubuntu.com/ubuntu bionic-updates/main amd64 libkrb5-dev amd64 1.16-2ubuntu0.1 [11.8 kB]\n",
            "Fetched 358 kB in 1s (468 kB/s)\n",
            "(Reading database ... 144933 files and directories currently installed.)\n",
            "Preparing to unpack .../libcom-err2_1.44.1-1ubuntu1.3_amd64.deb ...\n",
            "Unpacking libcom-err2:amd64 (1.44.1-1ubuntu1.3) over (1.44.1-1ubuntu1.2) ...\n",
            "Setting up libcom-err2:amd64 (1.44.1-1ubuntu1.3) ...\n",
            "Selecting previously unselected package libgssrpc4:amd64.\n",
            "(Reading database ... 144933 files and directories currently installed.)\n",
            "Preparing to unpack .../0-libgssrpc4_1.16-2ubuntu0.1_amd64.deb ...\n",
            "Unpacking libgssrpc4:amd64 (1.16-2ubuntu0.1) ...\n",
            "Selecting previously unselected package libkdb5-9:amd64.\n",
            "Preparing to unpack .../1-libkdb5-9_1.16-2ubuntu0.1_amd64.deb ...\n",
            "Unpacking libkdb5-9:amd64 (1.16-2ubuntu0.1) ...\n",
            "Selecting previously unselected package libkadm5srv-mit11:amd64.\n",
            "Preparing to unpack .../2-libkadm5srv-mit11_1.16-2ubuntu0.1_amd64.deb ...\n",
            "Unpacking libkadm5srv-mit11:amd64 (1.16-2ubuntu0.1) ...\n",
            "Selecting previously unselected package libkadm5clnt-mit11:amd64.\n",
            "Preparing to unpack .../3-libkadm5clnt-mit11_1.16-2ubuntu0.1_amd64.deb ...\n",
            "Unpacking libkadm5clnt-mit11:amd64 (1.16-2ubuntu0.1) ...\n",
            "Selecting previously unselected package comerr-dev:amd64.\n",
            "Preparing to unpack .../4-comerr-dev_2.1-1.44.1-1ubuntu1.3_amd64.deb ...\n",
            "Unpacking comerr-dev:amd64 (2.1-1.44.1-1ubuntu1.3) ...\n",
            "Selecting previously unselected package krb5-multidev:amd64.\n",
            "Preparing to unpack .../5-krb5-multidev_1.16-2ubuntu0.1_amd64.deb ...\n",
            "Unpacking krb5-multidev:amd64 (1.16-2ubuntu0.1) ...\n",
            "Selecting previously unselected package libkrb5-dev:amd64.\n",
            "Preparing to unpack .../6-libkrb5-dev_1.16-2ubuntu0.1_amd64.deb ...\n",
            "Unpacking libkrb5-dev:amd64 (1.16-2ubuntu0.1) ...\n",
            "Setting up libgssrpc4:amd64 (1.16-2ubuntu0.1) ...\n",
            "Setting up comerr-dev:amd64 (2.1-1.44.1-1ubuntu1.3) ...\n",
            "Setting up libkdb5-9:amd64 (1.16-2ubuntu0.1) ...\n",
            "Setting up libkadm5srv-mit11:amd64 (1.16-2ubuntu0.1) ...\n",
            "Setting up libkadm5clnt-mit11:amd64 (1.16-2ubuntu0.1) ...\n",
            "Setting up krb5-multidev:amd64 (1.16-2ubuntu0.1) ...\n",
            "Setting up libkrb5-dev:amd64 (1.16-2ubuntu0.1) ...\n",
            "Processing triggers for man-db (2.8.3-2ubuntu0.1) ...\n",
            "Processing triggers for libc-bin (2.27-3ubuntu1) ...\n",
            "/sbin/ldconfig.real: /usr/local/lib/python3.6/dist-packages/ideep4py/lib/libmkldnn.so.0 is not a symbolic link\n",
            "\n",
            "--2020-05-09 17:44:51--  https://www-us.apache.org/dist/spark/spark-2.4.5/spark-2.4.5-bin-hadoop2.7.tgz\n",
            "Resolving www-us.apache.org (www-us.apache.org)... 40.79.78.1\n",
            "Connecting to www-us.apache.org (www-us.apache.org)|40.79.78.1|:443... connected.\n",
            "HTTP request sent, awaiting response... 302 Found\n",
            "Location: https://downloads.apache.org/spark/spark-2.4.5/spark-2.4.5-bin-hadoop2.7.tgz [following]\n",
            "--2020-05-09 17:44:51--  https://downloads.apache.org/spark/spark-2.4.5/spark-2.4.5-bin-hadoop2.7.tgz\n",
            "Resolving downloads.apache.org (downloads.apache.org)... 88.99.95.219, 2a01:4f8:10a:201a::2\n",
            "Connecting to downloads.apache.org (downloads.apache.org)|88.99.95.219|:443... connected.\n",
            "HTTP request sent, awaiting response... 200 OK\n",
            "Length: 232530699 (222M) [application/x-gzip]\n",
            "Saving to: ‘spark-2.4.5-bin-hadoop2.7.tgz’\n",
            "\n",
            "spark-2.4.5-bin-had 100%[===================>] 221.76M  26.2MB/s    in 9.2s    \n",
            "\n",
            "2020-05-09 17:45:01 (24.1 MB/s) - ‘spark-2.4.5-bin-hadoop2.7.tgz’ saved [232530699/232530699]\n",
            "\n",
            "Collecting findspark\n",
            "  Downloading https://files.pythonhosted.org/packages/b1/c8/e6e1f6a303ae5122dc28d131b5a67c5eb87cbf8f7ac5b9f87764ea1b1e1e/findspark-1.3.0-py2.py3-none-any.whl\n",
            "Installing collected packages: findspark\n",
            "Successfully installed findspark-1.3.0\n",
            "Collecting sparkmagic\n",
            "  Downloading https://files.pythonhosted.org/packages/eb/f3/458361eec01b7c1fb5aaa1b28a2e24b22167f577c2ab83d12b365a98be75/sparkmagic-0.15.0.tar.gz\n",
            "Collecting hdijupyterutils>=0.6\n",
            "  Downloading https://files.pythonhosted.org/packages/a9/b9/4daa0d8319a9e9101d6d6c8af1f5b1e87178542a70995a4ff2611005cc98/hdijupyterutils-0.15.0.tar.gz\n",
            "Collecting autovizwidget>=0.6\n",
            "  Downloading https://files.pythonhosted.org/packages/17/bb/d7d725dc3288354c4431dbf53aa40d0014379ec9a45475805f62436573ec/autovizwidget-0.15.0.tar.gz\n",
            "Requirement already satisfied: ipython>=4.0.2 in /usr/local/lib/python3.6/dist-packages (from sparkmagic) (5.5.0)\n",
            "Collecting nose\n",
            "\u001b[?25l  Downloading https://files.pythonhosted.org/packages/15/d8/dd071918c040f50fa1cf80da16423af51ff8ce4a0f2399b7bf8de45ac3d9/nose-1.3.7-py3-none-any.whl (154kB)\n",
            "\u001b[K     |████████████████████████████████| 163kB 7.6MB/s \n",
            "\u001b[?25hCollecting mock\n",
            "  Downloading https://files.pythonhosted.org/packages/cd/74/d72daf8dff5b6566db857cfd088907bb0355f5dd2914c4b3ef065c790735/mock-4.0.2-py3-none-any.whl\n",
            "Requirement already satisfied: pandas>=0.17.1 in /usr/local/lib/python3.6/dist-packages (from sparkmagic) (1.0.3)\n",
            "Requirement already satisfied: numpy in /usr/local/lib/python3.6/dist-packages (from sparkmagic) (1.18.4)\n",
            "Requirement already satisfied: requests in /usr/local/lib/python3.6/dist-packages (from sparkmagic) (2.23.0)\n",
            "Requirement already satisfied: ipykernel in /usr/local/lib/python3.6/dist-packages (from sparkmagic) (4.10.1)\n",
            "Requirement already satisfied: ipywidgets>5.0.0 in /usr/local/lib/python3.6/dist-packages (from sparkmagic) (7.5.1)\n",
            "Requirement already satisfied: notebook>=4.2 in /usr/local/lib/python3.6/dist-packages (from sparkmagic) (5.2.2)\n",
            "Requirement already satisfied: tornado>=4 in /usr/local/lib/python3.6/dist-packages (from sparkmagic) (4.5.3)\n",
            "Collecting requests_kerberos>=0.8.0\n",
            "  Downloading https://files.pythonhosted.org/packages/ee/a2/866f2b9a60f75055137b9ad127033e397963b2c4769d4b5fab1c3c7e8be3/requests_kerberos-0.12.0-py2.py3-none-any.whl\n",
            "Requirement already satisfied: jupyter>=1 in /usr/local/lib/python3.6/dist-packages (from hdijupyterutils>=0.6->sparkmagic) (1.0.0)\n",
            "Requirement already satisfied: plotly>=3 in /usr/local/lib/python3.6/dist-packages (from autovizwidget>=0.6->sparkmagic) (4.4.1)\n",
            "Requirement already satisfied: traitlets>=4.2 in /usr/local/lib/python3.6/dist-packages (from ipython>=4.0.2->sparkmagic) (4.3.3)\n",
            "Requirement already satisfied: prompt-toolkit<2.0.0,>=1.0.4 in /usr/local/lib/python3.6/dist-packages (from ipython>=4.0.2->sparkmagic) (1.0.18)\n",
            "Requirement already satisfied: pickleshare in /usr/local/lib/python3.6/dist-packages (from ipython>=4.0.2->sparkmagic) (0.7.5)\n",
            "Requirement already satisfied: pexpect; sys_platform != \"win32\" in /usr/local/lib/python3.6/dist-packages (from ipython>=4.0.2->sparkmagic) (4.8.0)\n",
            "Requirement already satisfied: simplegeneric>0.8 in /usr/local/lib/python3.6/dist-packages (from ipython>=4.0.2->sparkmagic) (0.8.1)\n",
            "Requirement already satisfied: decorator in /usr/local/lib/python3.6/dist-packages (from ipython>=4.0.2->sparkmagic) (4.4.2)\n",
            "Requirement already satisfied: setuptools>=18.5 in /usr/local/lib/python3.6/dist-packages (from ipython>=4.0.2->sparkmagic) (46.1.3)\n",
            "Requirement already satisfied: pygments in /usr/local/lib/python3.6/dist-packages (from ipython>=4.0.2->sparkmagic) (2.1.3)\n",
            "Requirement already satisfied: python-dateutil>=2.6.1 in /usr/local/lib/python3.6/dist-packages (from pandas>=0.17.1->sparkmagic) (2.8.1)\n",
            "Requirement already satisfied: pytz>=2017.2 in /usr/local/lib/python3.6/dist-packages (from pandas>=0.17.1->sparkmagic) (2018.9)\n",
            "Requirement already satisfied: certifi>=2017.4.17 in /usr/local/lib/python3.6/dist-packages (from requests->sparkmagic) (2020.4.5.1)\n",
            "Requirement already satisfied: idna<3,>=2.5 in /usr/local/lib/python3.6/dist-packages (from requests->sparkmagic) (2.9)\n",
            "Requirement already satisfied: chardet<4,>=3.0.2 in /usr/local/lib/python3.6/dist-packages (from requests->sparkmagic) (3.0.4)\n",
            "Requirement already satisfied: urllib3!=1.25.0,!=1.25.1,<1.26,>=1.21.1 in /usr/local/lib/python3.6/dist-packages (from requests->sparkmagic) (1.24.3)\n",
            "Requirement already satisfied: jupyter-client in /usr/local/lib/python3.6/dist-packages (from ipykernel->sparkmagic) (5.3.4)\n",
            "Requirement already satisfied: nbformat>=4.2.0 in /usr/local/lib/python3.6/dist-packages (from ipywidgets>5.0.0->sparkmagic) (5.0.6)\n",
            "Requirement already satisfied: widgetsnbextension~=3.5.0 in /usr/local/lib/python3.6/dist-packages (from ipywidgets>5.0.0->sparkmagic) (3.5.1)\n",
            "Requirement already satisfied: nbconvert in /usr/local/lib/python3.6/dist-packages (from notebook>=4.2->sparkmagic) (5.6.1)\n",
            "Requirement already satisfied: terminado>=0.3.3; sys_platform != \"win32\" in /usr/local/lib/python3.6/dist-packages (from notebook>=4.2->sparkmagic) (0.8.3)\n",
            "Requirement already satisfied: jupyter-core in /usr/local/lib/python3.6/dist-packages (from notebook>=4.2->sparkmagic) (4.6.3)\n",
            "Requirement already satisfied: ipython-genutils in /usr/local/lib/python3.6/dist-packages (from notebook>=4.2->sparkmagic) (0.2.0)\n",
            "Requirement already satisfied: jinja2 in /usr/local/lib/python3.6/dist-packages (from notebook>=4.2->sparkmagic) (2.11.2)\n",
            "Collecting pykerberos<2.0.0,>=1.1.8; sys_platform != \"win32\"\n",
            "  Downloading https://files.pythonhosted.org/packages/9a/b8/1ec56b6fa8a2e2a81420bd3d90e70b59fc83f6b857fb2c2c37accddc8be3/pykerberos-1.2.1.tar.gz\n",
            "Collecting cryptography>=1.3; python_version != \"3.3\"\n",
            "\u001b[?25l  Downloading https://files.pythonhosted.org/packages/3c/04/686efee2dcdd25aecf357992e7d9362f443eb182ecd623f882bc9f7a6bba/cryptography-2.9.2-cp35-abi3-manylinux2010_x86_64.whl (2.7MB)\n",
            "\u001b[K     |████████████████████████████████| 2.7MB 16.0MB/s \n",
            "\u001b[?25hRequirement already satisfied: qtconsole in /usr/local/lib/python3.6/dist-packages (from jupyter>=1->hdijupyterutils>=0.6->sparkmagic) (4.7.3)\n",
            "Requirement already satisfied: jupyter-console in /usr/local/lib/python3.6/dist-packages (from jupyter>=1->hdijupyterutils>=0.6->sparkmagic) (5.2.0)\n",
            "Requirement already satisfied: six in /usr/local/lib/python3.6/dist-packages (from plotly>=3->autovizwidget>=0.6->sparkmagic) (1.12.0)\n",
            "Requirement already satisfied: retrying>=1.3.3 in /usr/local/lib/python3.6/dist-packages (from plotly>=3->autovizwidget>=0.6->sparkmagic) (1.3.3)\n",
            "Requirement already satisfied: wcwidth in /usr/local/lib/python3.6/dist-packages (from prompt-toolkit<2.0.0,>=1.0.4->ipython>=4.0.2->sparkmagic) (0.1.9)\n",
            "Requirement already satisfied: ptyprocess>=0.5 in /usr/local/lib/python3.6/dist-packages (from pexpect; sys_platform != \"win32\"->ipython>=4.0.2->sparkmagic) (0.6.0)\n",
            "Requirement already satisfied: pyzmq>=13 in /usr/local/lib/python3.6/dist-packages (from jupyter-client->ipykernel->sparkmagic) (19.0.0)\n",
            "Requirement already satisfied: jsonschema!=2.5.0,>=2.4 in /usr/local/lib/python3.6/dist-packages (from nbformat>=4.2.0->ipywidgets>5.0.0->sparkmagic) (2.6.0)\n",
            "Requirement already satisfied: mistune<2,>=0.8.1 in /usr/local/lib/python3.6/dist-packages (from nbconvert->notebook>=4.2->sparkmagic) (0.8.4)\n",
            "Requirement already satisfied: entrypoints>=0.2.2 in /usr/local/lib/python3.6/dist-packages (from nbconvert->notebook>=4.2->sparkmagic) (0.3)\n",
            "Requirement already satisfied: pandocfilters>=1.4.1 in /usr/local/lib/python3.6/dist-packages (from nbconvert->notebook>=4.2->sparkmagic) (1.4.2)\n",
            "Requirement already satisfied: defusedxml in /usr/local/lib/python3.6/dist-packages (from nbconvert->notebook>=4.2->sparkmagic) (0.6.0)\n",
            "Requirement already satisfied: testpath in /usr/local/lib/python3.6/dist-packages (from nbconvert->notebook>=4.2->sparkmagic) (0.4.4)\n",
            "Requirement already satisfied: bleach in /usr/local/lib/python3.6/dist-packages (from nbconvert->notebook>=4.2->sparkmagic) (3.1.5)\n",
            "Requirement already satisfied: MarkupSafe>=0.23 in /usr/local/lib/python3.6/dist-packages (from jinja2->notebook>=4.2->sparkmagic) (1.1.1)\n",
            "Requirement already satisfied: cffi!=1.11.3,>=1.8 in /usr/local/lib/python3.6/dist-packages (from cryptography>=1.3; python_version != \"3.3\"->requests_kerberos>=0.8.0->sparkmagic) (1.14.0)\n",
            "Requirement already satisfied: qtpy in /usr/local/lib/python3.6/dist-packages (from qtconsole->jupyter>=1->hdijupyterutils>=0.6->sparkmagic) (1.9.0)\n",
            "Requirement already satisfied: packaging in /usr/local/lib/python3.6/dist-packages (from bleach->nbconvert->notebook>=4.2->sparkmagic) (20.3)\n",
            "Requirement already satisfied: webencodings in /usr/local/lib/python3.6/dist-packages (from bleach->nbconvert->notebook>=4.2->sparkmagic) (0.5.1)\n",
            "Requirement already satisfied: pycparser in /usr/local/lib/python3.6/dist-packages (from cffi!=1.11.3,>=1.8->cryptography>=1.3; python_version != \"3.3\"->requests_kerberos>=0.8.0->sparkmagic) (2.20)\n",
            "Requirement already satisfied: pyparsing>=2.0.2 in /usr/local/lib/python3.6/dist-packages (from packaging->bleach->nbconvert->notebook>=4.2->sparkmagic) (2.4.7)\n",
            "Building wheels for collected packages: sparkmagic, hdijupyterutils, autovizwidget, pykerberos\n",
            "  Building wheel for sparkmagic (setup.py) ... \u001b[?25l\u001b[?25hdone\n",
            "  Created wheel for sparkmagic: filename=sparkmagic-0.15.0-cp36-none-any.whl size=57176 sha256=8feebf7a44d990605ae326f7acc27bcf5945558ee44fc494a8d1f7c53893dd93\n",
            "  Stored in directory: /root/.cache/pip/wheels/b6/42/21/575eb221b00c86d1e4ca0b8e6916df1b9948f30383680cde14\n",
            "  Building wheel for hdijupyterutils (setup.py) ... \u001b[?25l\u001b[?25hdone\n",
            "  Created wheel for hdijupyterutils: filename=hdijupyterutils-0.15.0-cp36-none-any.whl size=7667 sha256=b97451c8862a202f93d64098c120f4bd84aa1b39877665de1876201368c15888\n",
            "  Stored in directory: /root/.cache/pip/wheels/7e/f0/ad/29b0902eb1384bf2691d6baa61f2cfce35f2370058e8c732cc\n",
            "  Building wheel for autovizwidget (setup.py) ... \u001b[?25l\u001b[?25hdone\n",
            "  Created wheel for autovizwidget: filename=autovizwidget-0.15.0-cp36-none-any.whl size=14547 sha256=f1f698dfc4002073c37660e5b9fa37cd3d8f5d17ed7ceb089b38e0d8a4621741\n",
            "  Stored in directory: /root/.cache/pip/wheels/c8/09/b3/7851bdad56450e74338735e062864eb8f74fea8517d31f9d0b\n",
            "  Building wheel for pykerberos (setup.py) ... \u001b[?25l\u001b[?25hdone\n",
            "  Created wheel for pykerberos: filename=pykerberos-1.2.1-cp36-cp36m-linux_x86_64.whl size=68599 sha256=17e8556e2367b8de9b5359757e43546548b074e28a2a0d52a3e03b1a13ef9339\n",
            "  Stored in directory: /root/.cache/pip/wheels/c7/a7/07/d414c22754acf5822ccce48b41822142974ec103057c8305e7\n",
            "Successfully built sparkmagic hdijupyterutils autovizwidget pykerberos\n",
            "Installing collected packages: nose, mock, hdijupyterutils, autovizwidget, pykerberos, cryptography, requests-kerberos, sparkmagic\n",
            "Successfully installed autovizwidget-0.15.0 cryptography-2.9.2 hdijupyterutils-0.15.0 mock-4.0.2 nose-1.3.7 pykerberos-1.2.1 requests-kerberos-0.12.0 sparkmagic-0.15.0\n",
            "Collecting pyspark\n",
            "\u001b[?25l  Downloading https://files.pythonhosted.org/packages/9a/5a/271c416c1c2185b6cb0151b29a91fff6fcaed80173c8584ff6d20e46b465/pyspark-2.4.5.tar.gz (217.8MB)\n",
            "\u001b[K     |████████████████████████████████| 217.8MB 58kB/s \n",
            "\u001b[?25hCollecting py4j==0.10.7\n",
            "\u001b[?25l  Downloading https://files.pythonhosted.org/packages/e3/53/c737818eb9a7dc32a7cd4f1396e787bd94200c3997c72c1dbe028587bd76/py4j-0.10.7-py2.py3-none-any.whl (197kB)\n",
            "\u001b[K     |████████████████████████████████| 204kB 37.1MB/s \n",
            "\u001b[?25hBuilding wheels for collected packages: pyspark\n",
            "  Building wheel for pyspark (setup.py) ... \u001b[?25l\u001b[?25hdone\n",
            "  Created wheel for pyspark: filename=pyspark-2.4.5-py2.py3-none-any.whl size=218257927 sha256=9e02fccf85ab71adbda62765b7142e5488c6c99578d7c8bd1ec227b6a8e21f22\n",
            "  Stored in directory: /root/.cache/pip/wheels/bf/db/04/61d66a5939364e756eb1c1be4ec5bdce6e04047fc7929a3c3c\n",
            "Successfully built pyspark\n",
            "Installing collected packages: py4j, pyspark\n",
            "Successfully installed py4j-0.10.7 pyspark-2.4.5\n",
            "Requirement already satisfied: pyspark in /usr/local/lib/python3.6/dist-packages (2.4.5)\n",
            "Requirement already satisfied: py4j==0.10.7 in /usr/local/lib/python3.6/dist-packages (from pyspark) (0.10.7)\n",
            "Requirement already satisfied: seaborn in /usr/local/lib/python3.6/dist-packages (0.10.1)\n",
            "Requirement already satisfied: matplotlib>=2.1.2 in /usr/local/lib/python3.6/dist-packages (from seaborn) (3.2.1)\n",
            "Requirement already satisfied: pandas>=0.22.0 in /usr/local/lib/python3.6/dist-packages (from seaborn) (1.0.3)\n",
            "Requirement already satisfied: numpy>=1.13.3 in /usr/local/lib/python3.6/dist-packages (from seaborn) (1.18.4)\n",
            "Requirement already satisfied: scipy>=1.0.1 in /usr/local/lib/python3.6/dist-packages (from seaborn) (1.4.1)\n",
            "Requirement already satisfied: python-dateutil>=2.1 in /usr/local/lib/python3.6/dist-packages (from matplotlib>=2.1.2->seaborn) (2.8.1)\n",
            "Requirement already satisfied: kiwisolver>=1.0.1 in /usr/local/lib/python3.6/dist-packages (from matplotlib>=2.1.2->seaborn) (1.2.0)\n",
            "Requirement already satisfied: pyparsing!=2.0.4,!=2.1.2,!=2.1.6,>=2.0.1 in /usr/local/lib/python3.6/dist-packages (from matplotlib>=2.1.2->seaborn) (2.4.7)\n",
            "Requirement already satisfied: cycler>=0.10 in /usr/local/lib/python3.6/dist-packages (from matplotlib>=2.1.2->seaborn) (0.10.0)\n",
            "Requirement already satisfied: pytz>=2017.2 in /usr/local/lib/python3.6/dist-packages (from pandas>=0.22.0->seaborn) (2018.9)\n",
            "Requirement already satisfied: six>=1.5 in /usr/local/lib/python3.6/dist-packages (from python-dateutil>=2.1->matplotlib>=2.1.2->seaborn) (1.12.0)\n",
            "Requirement already satisfied: plotly in /usr/local/lib/python3.6/dist-packages (4.4.1)\n",
            "Requirement already satisfied: retrying>=1.3.3 in /usr/local/lib/python3.6/dist-packages (from plotly) (1.3.3)\n",
            "Requirement already satisfied: six in /usr/local/lib/python3.6/dist-packages (from plotly) (1.12.0)\n",
            "Requirement already satisfied: imageio in /usr/local/lib/python3.6/dist-packages (2.4.1)\n",
            "Requirement already satisfied: numpy in /usr/local/lib/python3.6/dist-packages (from imageio) (1.18.4)\n",
            "Requirement already satisfied: pillow in /usr/local/lib/python3.6/dist-packages (from imageio) (7.0.0)\n",
            "Requirement already satisfied: folium in /usr/local/lib/python3.6/dist-packages (0.8.3)\n",
            "Requirement already satisfied: requests in /usr/local/lib/python3.6/dist-packages (from folium) (2.23.0)\n",
            "Requirement already satisfied: six in /usr/local/lib/python3.6/dist-packages (from folium) (1.12.0)\n",
            "Requirement already satisfied: numpy in /usr/local/lib/python3.6/dist-packages (from folium) (1.18.4)\n",
            "Requirement already satisfied: jinja2 in /usr/local/lib/python3.6/dist-packages (from folium) (2.11.2)\n",
            "Requirement already satisfied: branca>=0.3.0 in /usr/local/lib/python3.6/dist-packages (from folium) (0.4.0)\n",
            "Requirement already satisfied: certifi>=2017.4.17 in /usr/local/lib/python3.6/dist-packages (from requests->folium) (2020.4.5.1)\n",
            "Requirement already satisfied: urllib3!=1.25.0,!=1.25.1,<1.26,>=1.21.1 in /usr/local/lib/python3.6/dist-packages (from requests->folium) (1.24.3)\n",
            "Requirement already satisfied: idna<3,>=2.5 in /usr/local/lib/python3.6/dist-packages (from requests->folium) (2.9)\n",
            "Requirement already satisfied: chardet<4,>=3.0.2 in /usr/local/lib/python3.6/dist-packages (from requests->folium) (3.0.4)\n",
            "Requirement already satisfied: MarkupSafe>=0.23 in /usr/local/lib/python3.6/dist-packages (from jinja2->folium) (1.1.1)\n",
            "Ign:1 https://developer.download.nvidia.com/compute/cuda/repos/ubuntu1804/x86_64  InRelease\n",
            "Get:2 http://security.ubuntu.com/ubuntu bionic-security InRelease [88.7 kB]\n",
            "Hit:3 http://archive.ubuntu.com/ubuntu bionic InRelease\n",
            "Ign:4 https://developer.download.nvidia.com/compute/machine-learning/repos/ubuntu1804/x86_64  InRelease\n",
            "Hit:5 https://developer.download.nvidia.com/compute/cuda/repos/ubuntu1804/x86_64  Release\n",
            "Hit:6 http://ppa.launchpad.net/graphics-drivers/ppa/ubuntu bionic InRelease\n",
            "Hit:7 https://developer.download.nvidia.com/compute/machine-learning/repos/ubuntu1804/x86_64  Release\n",
            "Get:8 http://archive.ubuntu.com/ubuntu bionic-updates InRelease [88.7 kB]\n",
            "Get:9 http://ppa.launchpad.net/marutter/c2d4u3.5/ubuntu bionic InRelease [15.4 kB]\n",
            "Get:10 https://cloud.r-project.org/bin/linux/ubuntu bionic-cran35/ InRelease [3,626 B]\n",
            "Get:11 http://archive.ubuntu.com/ubuntu bionic-backports InRelease [74.6 kB]\n",
            "Get:14 http://ppa.launchpad.net/marutter/c2d4u3.5/ubuntu bionic/main Sources [1,814 kB]\n",
            "Get:15 http://security.ubuntu.com/ubuntu bionic-security/universe amd64 Packages [844 kB]\n",
            "Get:16 http://archive.ubuntu.com/ubuntu bionic-updates/universe amd64 Packages [1,376 kB]\n",
            "Get:17 http://security.ubuntu.com/ubuntu bionic-security/main amd64 Packages [908 kB]\n",
            "Get:18 http://ppa.launchpad.net/marutter/c2d4u3.5/ubuntu bionic/main amd64 Packages [875 kB]\n",
            "Get:19 http://archive.ubuntu.com/ubuntu bionic-updates/main amd64 Packages [1,205 kB]\n",
            "Fetched 7,294 kB in 3s (2,382 kB/s)\n",
            "Reading package lists... Done\n",
            "Building dependency tree       \n",
            "Reading state information... Done\n",
            "31 packages can be upgraded. Run 'apt list --upgradable' to see them.\n",
            "Reading package lists... Done\n",
            "Building dependency tree       \n",
            "Reading state information... Done\n",
            "python-dev is already the newest version (2.7.15~rc1-1).\n",
            "gcc is already the newest version (4:7.4.0-1ubuntu2.3).\n",
            "gcc set to manually installed.\n",
            "libkrb5-dev is already the newest version (1.16-2ubuntu0.1).\n",
            "0 upgraded, 0 newly installed, 0 to remove and 31 not upgraded.\n"
          ],
          "name": "stdout"
        }
      ]
    },
    {
      "cell_type": "markdown",
      "metadata": {
        "id": "msgHzDI5Erji",
        "colab_type": "text"
      },
      "source": [
        "**Step One: Neccessary Imports.**"
      ]
    },
    {
      "cell_type": "code",
      "metadata": {
        "id": "NfoBcdwyaOMV",
        "colab_type": "code",
        "colab": {}
      },
      "source": [
        "# For the Spark Model:\n",
        "from pyspark.ml.feature import StringIndexer, VectorAssembler\n",
        "from pyspark.ml import Pipeline\n",
        "from pyspark.ml.regression import LinearRegression\n",
        "from pyspark.ml.feature import PCA\n",
        "from pyspark.ml.regression import RandomForestRegressor\n",
        "from pyspark.ml.evaluation import RegressionEvaluator"
      ],
      "execution_count": 0,
      "outputs": []
    },
    {
      "cell_type": "markdown",
      "metadata": {
        "id": "lhauWYfqErAs",
        "colab_type": "text"
      },
      "source": [
        "**Step Two: Spark Dataframe Preparation.**\n",
        "\n",
        "Because the initial Pandas dataframe is not perfectly suitable to immedaitely use as a spark dataframe, renaming several problematic columns does the trick."
      ]
    },
    {
      "cell_type": "code",
      "metadata": {
        "id": "tqCZ-WJI0ohT",
        "colab_type": "code",
        "colab": {}
      },
      "source": [
        "nyt_dining = pd.read_excel(\"https://github.com/andersthequeen/cis545/blob/master/nyt_dining_clean.xlsx?raw=true\", \n",
        "                           headers = True, index_col = 0)\n",
        "nyt_dining.to_csv ('nyt_dining.csv', index = None, header = True)\n",
        "nyt_dining = pd.read_csv('nyt_dining.csv')"
      ],
      "execution_count": 0,
      "outputs": []
    },
    {
      "cell_type": "code",
      "metadata": {
        "id": "F1lUoCBr1MoT",
        "colab_type": "code",
        "colab": {}
      },
      "source": [
        "nyt_dining_sdf = spark.read.csv(\"nyt_dining.csv\", header = True, inferSchema = True)\n",
        "nyt_dining_sdf = nyt_dining_sdf.withColumnRenamed(\"Austin, Tex.\", \"Austin\")\n",
        "nyt_dining_sdf = nyt_dining_sdf.withColumnRenamed(\"Santa Monica, Calif.\", \"Santa Monica\")\n",
        "nyt_dining_sdf = nyt_dining_sdf.withColumnRenamed(\"Washington D.C.\", \"Washington DC\")\n",
        "nyt_dining_sdf = nyt_dining_sdf.withColumnRenamed(\"Frank J. Prial\", \"Frank J Prial\")"
      ],
      "execution_count": 0,
      "outputs": []
    },
    {
      "cell_type": "markdown",
      "metadata": {
        "id": "FwDaJSwEGLgU",
        "colab_type": "text"
      },
      "source": [
        "**Step Three: Briefly run a much better Linear Regression.**\n",
        "\n",
        "Within the PCA + Linear Regression model, I have the chance to run another Linear Regression model. This time, my model runs *much* better than the first Linear Regression model, with an achieved RMSE of approximately 0.5052. This RMSE is much better than the RMSE achieved by the Random Forest Regressor."
      ]
    },
    {
      "cell_type": "code",
      "metadata": {
        "id": "loBoA5_Katt_",
        "colab_type": "code",
        "colab": {
          "base_uri": "https://localhost:8080/",
          "height": 52
        },
        "outputId": "86c0e125-9c29-44e2-cd91-0625a7e3854b"
      },
      "source": [
        "columns_to_use = [i for i in nyt_dining_sdf.columns if i not in ['rating']]\n",
        "assembler = VectorAssembler(inputCols = columns_to_use , outputCol = \"features\")\n",
        "modified_data_sdf = assembler.transform(nyt_dining_sdf)\n",
        "train_sdf, test_sdf = modified_data_sdf.randomSplit([0.8, 0.2], seed = 123)\n",
        "lr = LinearRegression(featuresCol = 'features', labelCol = 'rating')\n",
        "lr_model = lr.fit(train_sdf)\n",
        "trainingSummary = lr_model.summary\n",
        "print(\"RMSE: %f\" % trainingSummary.rootMeanSquaredError)\n",
        "print(\"r2: %f\" % trainingSummary.r2)"
      ],
      "execution_count": 6,
      "outputs": [
        {
          "output_type": "stream",
          "text": [
            "RMSE: 0.505242\n",
            "r2: 0.840936\n"
          ],
          "name": "stdout"
        }
      ]
    },
    {
      "cell_type": "markdown",
      "metadata": {
        "id": "18Nb-5gcGhJH",
        "colab_type": "text"
      },
      "source": [
        "**Step Four: Building the PCA + Linear Regression Pipeline.**\n",
        "\n",
        "I use 200 columns, rather than all 302."
      ]
    },
    {
      "cell_type": "code",
      "metadata": {
        "id": "QRG5S-mj63Ua",
        "colab_type": "code",
        "colab": {}
      },
      "source": [
        "pca = PCA(k = 200, inputCol = 'features', outputCol = 'pca_process')\n",
        "lr_pca = LinearRegression(featuresCol = 'pca_process', labelCol = 'rating', predictionCol = 'prediction')\n",
        "pipeline = Pipeline(stages = [pca, lr_pca])\n",
        "X3 = pipeline.fit(train_sdf)"
      ],
      "execution_count": 0,
      "outputs": []
    },
    {
      "cell_type": "code",
      "metadata": {
        "id": "yz5k6oQE7kII",
        "colab_type": "code",
        "colab": {
          "base_uri": "https://localhost:8080/",
          "height": 34
        },
        "outputId": "cbe8fab4-c306-4c1f-8e09-89c79930e74b"
      },
      "source": [
        "train_predictions = X3.transform(train_sdf)\n",
        "evaluator = RegressionEvaluator(labelCol = 'rating', \n",
        "                                predictionCol = 'prediction',\n",
        "                                metricName = 'rmse')\n",
        "training_rmse_pca = evaluator.evaluate(train_predictions)\n",
        "training_rmse_pca"
      ],
      "execution_count": 8,
      "outputs": [
        {
          "output_type": "execute_result",
          "data": {
            "text/plain": [
              "0.518233650093363"
            ]
          },
          "metadata": {
            "tags": []
          },
          "execution_count": 8
        }
      ]
    },
    {
      "cell_type": "markdown",
      "metadata": {
        "id": "zdTl8VjnGo7C",
        "colab_type": "text"
      },
      "source": [
        "**Step Five: Getting the RMSE.**\n",
        "\n",
        "The final RMSE of the PCA + pipeline model — approximately 0.535 — this is actually worse than the Linear Regression model fitted in the first half of this section! This is quite interesting. I am not sure why this was the case."
      ]
    },
    {
      "cell_type": "code",
      "metadata": {
        "id": "2I2GQW1a8PaO",
        "colab_type": "code",
        "colab": {
          "base_uri": "https://localhost:8080/",
          "height": 34
        },
        "outputId": "f1fe4189-4713-49b1-8458-2374886b75c4"
      },
      "source": [
        "predictions = X3.transform(test_sdf)\n",
        "evaluator = RegressionEvaluator(labelCol = 'rating', \n",
        "                                predictionCol = 'prediction',\n",
        "                                metricName = 'rmse')\n",
        "test_rmse_pca = evaluator.evaluate(predictions)\n",
        "test_rmse_pca"
      ],
      "execution_count": 9,
      "outputs": [
        {
          "output_type": "execute_result",
          "data": {
            "text/plain": [
              "0.5352953226204413"
            ]
          },
          "metadata": {
            "tags": []
          },
          "execution_count": 9
        }
      ]
    },
    {
      "cell_type": "markdown",
      "metadata": {
        "id": "UbqEzpN89BFz",
        "colab_type": "text"
      },
      "source": [
        "### Model Four: Random Forest Classification"
      ]
    },
    {
      "cell_type": "markdown",
      "metadata": {
        "id": "jSo5dLEmHDME",
        "colab_type": "text"
      },
      "source": [
        "**Step One: Neccessary Imports.**"
      ]
    },
    {
      "cell_type": "code",
      "metadata": {
        "id": "qS-AzXrLXQRY",
        "colab_type": "code",
        "colab": {
          "base_uri": "https://localhost:8080/",
          "height": 72
        },
        "outputId": "a7f5d8d9-b76c-4438-9b22-284067ca684a"
      },
      "source": [
        "from sklearn.ensemble import RandomForestClassifier\n",
        "from sklearn.model_selection import GridSearchCV\n",
        "from sklearn.model_selection import cross_val_score\n",
        "from sklearn.model_selection import train_test_split\n",
        "from sklearn.metrics import accuracy_score\n",
        "from sklearn.decomposition import PCA\n",
        "from sklearn.preprocessing import StandardScaler\n",
        "from sklearn.metrics import mean_squared_error\n",
        "from sklearn import metrics, svm\n",
        "from sklearn.linear_model import LogisticRegression\n",
        "from sklearn import preprocessing\n",
        "from sklearn import utils\n",
        "import numpy as np\n",
        "import pandas as pd\n",
        "import matplotlib.pyplot as plt\n",
        "import seaborn as sns"
      ],
      "execution_count": 1,
      "outputs": [
        {
          "output_type": "stream",
          "text": [
            "/usr/local/lib/python3.6/dist-packages/statsmodels/tools/_testing.py:19: FutureWarning: pandas.util.testing is deprecated. Use the functions in the public API at pandas.testing instead.\n",
            "  import pandas.util.testing as tm\n"
          ],
          "name": "stderr"
        }
      ]
    },
    {
      "cell_type": "markdown",
      "metadata": {
        "id": "kBXcWt9WHVio",
        "colab_type": "text"
      },
      "source": [
        "**Step Two: Separating out the label and features columns.**\n",
        "\n",
        "Using `train_test_split`, I am further able to divide out the `x_train`, `y_train`, `x_val`, `y_val`, `x_test` and `y_test` datasets from the original `nyt_dining` dataset."
      ]
    },
    {
      "cell_type": "code",
      "metadata": {
        "colab_type": "code",
        "id": "hAKOEwTVjvx2",
        "colab": {}
      },
      "source": [
        "nyt_dining = pd.read_excel(\"https://github.com/andersthequeen/cis545/blob/master/nyt_dining_clean.xlsx?raw=true\", \n",
        "                           headers = True, index_col = 0)\n",
        "factor = pd.factorize(nyt_dining['rating'])\n",
        "nyt_dining.rating = factor[0]\n",
        "definitions = factor[1]\n",
        "label = nyt_dining.rating\n",
        "features = nyt_dining.drop(columns = ['rating'])\n",
        "x_train, x_test, y_train, y_test = train_test_split(features, label, \n",
        "                                                    test_size = 0.15)\n",
        "x_train, x_val, y_train, y_val = train_test_split(x_train, y_train, \n",
        "                                                  test_size = 0.15, \n",
        "                                                  random_state = 1)"
      ],
      "execution_count": 0,
      "outputs": []
    },
    {
      "cell_type": "markdown",
      "metadata": {
        "id": "IRJc6WPVHqbq",
        "colab_type": "text"
      },
      "source": [
        "**Step Three: Scaling the Train, Validation and Testing Datasets.**\n",
        "\n",
        "Here, I come to the conclusion that the preferable number of components is approximately 120, rather than 302."
      ]
    },
    {
      "cell_type": "code",
      "metadata": {
        "id": "rhNWgOK29prd",
        "colab_type": "code",
        "outputId": "0438e30f-3cf6-49a0-e249-49537c87108c",
        "colab": {
          "base_uri": "https://localhost:8080/",
          "height": 282
        }
      },
      "source": [
        "X4 = StandardScaler().fit_transform(x_train)\n",
        "pca = PCA(n_components = 302)\n",
        "X4 = pca.fit_transform(X4)\n",
        "pca.explained_variance_ratio_\n",
        "\n",
        "pca_vs_variance = np.cumsum(pca.explained_variance_ratio_)\n",
        "pca_vs_variance\n",
        "plt.yticks(np.arange(0, 1.1, 0.1))\n",
        "plt.xticks(np.arange(0, 302, 20.0))\n",
        "sns.axes_style(\"darkgrid\")\n",
        "sns.lineplot(data = pca_vs_variance)"
      ],
      "execution_count": 3,
      "outputs": [
        {
          "output_type": "execute_result",
          "data": {
            "text/plain": [
              "<matplotlib.axes._subplots.AxesSubplot at 0x7f2292b431d0>"
            ]
          },
          "metadata": {
            "tags": []
          },
          "execution_count": 3
        },
        {
          "output_type": "display_data",
          "data": {
            "image/png": "[encoded data removed]",
            "text/plain": [
              "<Figure size 432x288 with 1 Axes>"
            ]
          },
          "metadata": {
            "tags": [],
            "needs_background": "light"
          }
        }
      ]
    },
    {
      "cell_type": "code",
      "metadata": {
        "id": "PQUv6DAtDcoq",
        "colab_type": "code",
        "outputId": "746d80f1-dfe6-4606-c124-d5128d5c32b1",
        "colab": {
          "base_uri": "https://localhost:8080/",
          "height": 282
        }
      },
      "source": [
        "X4V = StandardScaler().fit_transform(x_val)\n",
        "pca = PCA(n_components = 120)\n",
        "X4V = pca.fit_transform(X4V)\n",
        "pca.explained_variance_ratio_\n",
        "\n",
        "pca_vs_variance = np.cumsum(pca.explained_variance_ratio_)\n",
        "pca_vs_variance\n",
        "plt.yticks(np.arange(0, 1.1, 0.1))\n",
        "plt.xticks(np.arange(0, 120, 10.0))\n",
        "sns.axes_style(\"darkgrid\")\n",
        "sns.lineplot(data = pca_vs_variance)\n",
        "# Using only three columns to explain."
      ],
      "execution_count": 4,
      "outputs": [
        {
          "output_type": "execute_result",
          "data": {
            "text/plain": [
              "<matplotlib.axes._subplots.AxesSubplot at 0x7f22902c36d8>"
            ]
          },
          "metadata": {
            "tags": []
          },
          "execution_count": 4
        },
        {
          "output_type": "display_data",
          "data": {
            "image/png": "[encoded data removed]",
            "text/plain": [
              "<Figure size 432x288 with 1 Axes>"
            ]
          },
          "metadata": {
            "tags": [],
            "needs_background": "light"
          }
        }
      ]
    },
    {
      "cell_type": "code",
      "metadata": {
        "id": "87EmPBUV9VVq",
        "colab_type": "code",
        "colab": {}
      },
      "source": [
        "X4T = StandardScaler().fit_transform(x_test)\n",
        "pca2 = PCA(n_components = 120)\n",
        "X4T = pca2.fit_transform(X4T)"
      ],
      "execution_count": 0,
      "outputs": []
    },
    {
      "cell_type": "markdown",
      "metadata": {
        "id": "UT-vBXxvIKfW",
        "colab_type": "text"
      },
      "source": [
        "**Step Four: Fitting the Random Forest Classifier.**"
      ]
    },
    {
      "cell_type": "code",
      "metadata": {
        "id": "5HC6AxdQEZa4",
        "colab_type": "code",
        "colab": {}
      },
      "source": [
        "# Credit: https://towardsdatascience.com/optimizing-hyperparameters-in-random-forest-classification-ec7741f9d3f6\n",
        "forest = RandomForestClassifier(random_state = 1)\n",
        "modelF = forest.fit(X4V, y_val)\n",
        "y_predF = modelF.predict(X4T)"
      ],
      "execution_count": 0,
      "outputs": []
    },
    {
      "cell_type": "markdown",
      "metadata": {
        "id": "l_bpAsfkIQQf",
        "colab_type": "text"
      },
      "source": [
        "**Step Five: Tuning the hyperparameters.**\n",
        "\n",
        "After using `GridSearchCV` and tuning for `max_depth` and `n_estimators`, I found that a `max_depth` of 20 and `n_estimators` of 80 was most optimal to properly fit the Random Forest Classifier."
      ]
    },
    {
      "cell_type": "code",
      "metadata": {
        "id": "ztXmJqtq8pZi",
        "colab_type": "code",
        "outputId": "78a73196-9ce4-446c-b3e9-c8d110e08e31",
        "colab": {
          "base_uri": "https://localhost:8080/",
          "height": 87
        }
      },
      "source": [
        "param_grid = {\n",
        "    'max_depth': [20, 50],\n",
        "    'n_estimators': [80, 120]\n",
        "}\n",
        "gridF = GridSearchCV(estimator = forest, param_grid = param_grid,\n",
        "                     cv = 5, verbose = 1, n_jobs = -1)\n",
        "bestF_train = gridF.fit(X4V, y_val)\n",
        "bestF_train.best_params_"
      ],
      "execution_count": 21,
      "outputs": [
        {
          "output_type": "stream",
          "text": [
            "Fitting 5 folds for each of 4 candidates, totalling 20 fits\n"
          ],
          "name": "stdout"
        },
        {
          "output_type": "stream",
          "text": [
            "[Parallel(n_jobs=-1)]: Using backend LokyBackend with 2 concurrent workers.\n",
            "[Parallel(n_jobs=-1)]: Done  20 out of  20 | elapsed:    7.3s finished\n"
          ],
          "name": "stderr"
        },
        {
          "output_type": "execute_result",
          "data": {
            "text/plain": [
              "{'max_depth': 20, 'n_estimators': 120}"
            ]
          },
          "metadata": {
            "tags": []
          },
          "execution_count": 21
        }
      ]
    },
    {
      "cell_type": "markdown",
      "metadata": {
        "id": "6tu8d0QzKoSg",
        "colab_type": "text"
      },
      "source": [
        "**Step Six: Getting the Accuracy Score.**\n",
        "\n",
        "The final RMSE of the Random Forest Classifier hovered around 2.7913. However, this is not a particularly good measure of the Random Forest Classifier performance. To truly measure the Random Forest Classifier perforance, I attempted to use an accuracy metric. The accuracy metric shows that about 20.88% of the time, my model predicted the correct score. This is only very slightly better than random chance, which would be about 14.29%."
      ]
    },
    {
      "cell_type": "code",
      "metadata": {
        "id": "nG07ylcfAH0z",
        "colab_type": "code",
        "colab": {}
      },
      "source": [
        "rfc = RandomForestClassifier(n_estimators = 120, max_depth = 20)\n",
        "rfc.fit(X4V, y_val)\n",
        "prediction = rfc.predict(X4T)\n",
        "y_pred = prediction"
      ],
      "execution_count": 0,
      "outputs": []
    },
    {
      "cell_type": "code",
      "metadata": {
        "id": "vrudcU6VAWwD",
        "colab_type": "code",
        "outputId": "29a0fe32-d55c-42aa-9348-6cad30af6f77",
        "colab": {
          "base_uri": "https://localhost:8080/",
          "height": 34
        }
      },
      "source": [
        "accuracy_score(y_pred, y_test)\n",
        "# Accuracies: [0.2088, 0.2099, 0.1998, 0.1773, 0.1920]"
      ],
      "execution_count": 27,
      "outputs": [
        {
          "output_type": "execute_result",
          "data": {
            "text/plain": [
              "0.1919191919191919"
            ]
          },
          "metadata": {
            "tags": []
          },
          "execution_count": 27
        }
      ]
    },
    {
      "cell_type": "markdown",
      "metadata": {
        "id": "opxO14y0BXFJ",
        "colab_type": "text"
      },
      "source": [
        "### Model Five: Keras Neural Network"
      ]
    },
    {
      "cell_type": "markdown",
      "metadata": {
        "id": "7o7PyyBmXRFp",
        "colab_type": "text"
      },
      "source": [
        "**Step One: Necessary Imports.**"
      ]
    },
    {
      "cell_type": "code",
      "metadata": {
        "id": "m-4uekmtCQqs",
        "colab_type": "code",
        "colab": {}
      },
      "source": [
        "%%capture\n",
        "import argparse\n",
        "from sklearn.preprocessing import StandardScaler\n",
        "from sklearn.decomposition import PCA\n",
        "from sklearn.model_selection import train_test_split\n",
        "from keras.utils.np_utils import to_categorical\n",
        "from keras.models import Sequential\n",
        "from keras.datasets import mnist\n",
        "from keras.layers import Dense\n",
        "from keras.models import load_model\n",
        "from keras import optimizers\n",
        "from keras import utils\n",
        "import seaborn as sns\n",
        "import tensorflow as tf\n",
        "import pandas as pd"
      ],
      "execution_count": 0,
      "outputs": []
    },
    {
      "cell_type": "code",
      "metadata": {
        "id": "arJ31BTJYx23",
        "colab_type": "code",
        "colab": {}
      },
      "source": [
        "nyt_dining = pd.read_excel(\"https://github.com/andersthequeen/cis545/blob/master/nyt_dining_clean.xlsx?raw=true\", \n",
        "                           headers = True, index_col = 0)\n",
        "factor = pd.factorize(nyt_dining['rating'])\n",
        "nyt_dining.rating = factor[0]\n",
        "definitions = factor[1]\n",
        "label = nyt_dining.rating\n",
        "features = nyt_dining.drop(columns = ['rating'])\n",
        "# Credit: https://towardsdatascience.com/train-test-split-and-cross-validation-in-python-80b61beca4b6\n",
        "x_train, x_test, y_train, y_test = train_test_split(features, label, \n",
        "                                                    test_size = 0.2)"
      ],
      "execution_count": 0,
      "outputs": []
    },
    {
      "cell_type": "markdown",
      "metadata": {
        "id": "-0YpaJBiXypk",
        "colab_type": "text"
      },
      "source": [
        "**Step Two: Scaling the data.**"
      ]
    },
    {
      "cell_type": "code",
      "metadata": {
        "id": "AImozyBGSPXm",
        "colab_type": "code",
        "colab": {}
      },
      "source": [
        "X5 = StandardScaler().fit_transform(x_train)\n",
        "pca2 = PCA(n_components = 200)\n",
        "X5 = pca2.fit_transform(X5)"
      ],
      "execution_count": 0,
      "outputs": []
    },
    {
      "cell_type": "code",
      "metadata": {
        "id": "56becT6ub4-z",
        "colab_type": "code",
        "colab": {}
      },
      "source": [
        "X5T = StandardScaler().fit_transform(x_test)\n",
        "pca3 = PCA(n_components = 200)\n",
        "X5T = pca2.fit_transform(X5T)"
      ],
      "execution_count": 0,
      "outputs": []
    },
    {
      "cell_type": "code",
      "metadata": {
        "id": "m3sqhvsjDx70",
        "colab_type": "code",
        "colab": {}
      },
      "source": [
        "Y5 = to_categorical(y_train)"
      ],
      "execution_count": 0,
      "outputs": []
    },
    {
      "cell_type": "code",
      "metadata": {
        "id": "nil_c5wHbVxX",
        "colab_type": "code",
        "colab": {}
      },
      "source": [
        "Y5T = to_categorical(y_test)"
      ],
      "execution_count": 0,
      "outputs": []
    },
    {
      "cell_type": "markdown",
      "metadata": {
        "id": "pRx6WHelajfF",
        "colab_type": "text"
      },
      "source": [
        "**Step Three: Building and running the model.**\n",
        "\n",
        "Using various layers, primarily `relu` as the activation function, and prioritizing the reduction of `mean_squared_error` to increase the performance of the model."
      ]
    },
    {
      "cell_type": "code",
      "metadata": {
        "id": "-iSnVU0AFIlK",
        "colab_type": "code",
        "colab": {}
      },
      "source": [
        "model = Sequential()\n",
        "model.add(Dense(150, input_dim = 200, activation = 'relu'))\n",
        "model.add(Dense(100, input_dim = 200, activation = 'relu'))\n",
        "model.add(Dense(50, input_dim = 200, activation = 'relu'))\n",
        "model.add(Dense(8, activation = 'softmax'))\n",
        "model.compile(loss = \"categorical_crossentropy\", optimizer = 'adam', metrics = ['accuracy'])"
      ],
      "execution_count": 0,
      "outputs": []
    },
    {
      "cell_type": "code",
      "metadata": {
        "id": "57xeBq5NFOvU",
        "colab_type": "code",
        "outputId": "f926ea94-079a-4706-f61e-e931a0c8e2f1",
        "colab": {
          "base_uri": "https://localhost:8080/",
          "height": 727
        }
      },
      "source": [
        "history = model.fit(X5, Y5, epochs = 20, batch_size = 30)"
      ],
      "execution_count": 111,
      "outputs": [
        {
          "output_type": "stream",
          "text": [
            "Epoch 1/20\n",
            "4752/4752 [==============================] - 0s 79us/step - loss: 0.8814 - accuracy: 0.7393\n",
            "Epoch 2/20\n",
            "4752/4752 [==============================] - 0s 57us/step - loss: 0.2755 - accuracy: 0.9053\n",
            "Epoch 3/20\n",
            "4752/4752 [==============================] - 0s 56us/step - loss: 0.1670 - accuracy: 0.9470\n",
            "Epoch 4/20\n",
            "4752/4752 [==============================] - 0s 58us/step - loss: 0.1227 - accuracy: 0.9663\n",
            "Epoch 5/20\n",
            "4752/4752 [==============================] - 0s 59us/step - loss: 0.0998 - accuracy: 0.9726\n",
            "Epoch 6/20\n",
            "4752/4752 [==============================] - 0s 62us/step - loss: 0.0665 - accuracy: 0.9819\n",
            "Epoch 7/20\n",
            "4752/4752 [==============================] - 0s 58us/step - loss: 0.0468 - accuracy: 0.9878\n",
            "Epoch 8/20\n",
            "4752/4752 [==============================] - 0s 59us/step - loss: 0.0383 - accuracy: 0.9903\n",
            "Epoch 9/20\n",
            "4752/4752 [==============================] - 0s 58us/step - loss: 0.0333 - accuracy: 0.9907\n",
            "Epoch 10/20\n",
            "4752/4752 [==============================] - 0s 59us/step - loss: 0.0297 - accuracy: 0.9937\n",
            "Epoch 11/20\n",
            "4752/4752 [==============================] - 0s 65us/step - loss: 0.0286 - accuracy: 0.9935\n",
            "Epoch 12/20\n",
            "4752/4752 [==============================] - 0s 66us/step - loss: 0.0331 - accuracy: 0.9901\n",
            "Epoch 13/20\n",
            "4752/4752 [==============================] - 0s 65us/step - loss: 0.0210 - accuracy: 0.9939\n",
            "Epoch 14/20\n",
            "4752/4752 [==============================] - 0s 68us/step - loss: 0.0209 - accuracy: 0.9943\n",
            "Epoch 15/20\n",
            "4752/4752 [==============================] - 0s 62us/step - loss: 0.0108 - accuracy: 0.9962\n",
            "Epoch 16/20\n",
            "4752/4752 [==============================] - 0s 62us/step - loss: 0.0090 - accuracy: 0.9971\n",
            "Epoch 17/20\n",
            "4752/4752 [==============================] - 0s 68us/step - loss: 0.0062 - accuracy: 0.9983\n",
            "Epoch 18/20\n",
            "4752/4752 [==============================] - 0s 64us/step - loss: 0.0088 - accuracy: 0.9973\n",
            "Epoch 19/20\n",
            "4752/4752 [==============================] - 0s 63us/step - loss: 0.0361 - accuracy: 0.9922\n",
            "Epoch 20/20\n",
            "4752/4752 [==============================] - 0s 69us/step - loss: 0.0380 - accuracy: 0.9897\n"
          ],
          "name": "stdout"
        }
      ]
    },
    {
      "cell_type": "markdown",
      "metadata": {
        "id": "QHvOFfoH0IFc",
        "colab_type": "text"
      },
      "source": [
        "**Step Four: Evaluating the model.**\n",
        "\n",
        "Overall, the neural network model performed the best out of all five models. The accuracy given by the neural network achieved 80.81%, much better than random chance — which would have been 12.5%."
      ]
    },
    {
      "cell_type": "code",
      "metadata": {
        "id": "22TeVcUeXAnc",
        "colab_type": "code",
        "colab": {}
      },
      "source": [
        "accuracy_list = pd.Series(history.history['accuracy']) \n",
        "loss_list = pd.Series(history.history['loss'])"
      ],
      "execution_count": 0,
      "outputs": []
    },
    {
      "cell_type": "markdown",
      "metadata": {
        "id": "eYY8lR1L3F9o",
        "colab_type": "text"
      },
      "source": [
        "**Plot**\n",
        "\n",
        "Here, I plot the accuracy of each epoch, from 0 to 100."
      ]
    },
    {
      "cell_type": "code",
      "metadata": {
        "id": "3kaSHYfE1zgE",
        "colab_type": "code",
        "outputId": "f522bddd-a580-42fd-c398-3ab2489b4f20",
        "colab": {
          "base_uri": "https://localhost:8080/",
          "height": 282
        }
      },
      "source": [
        "sns.lineplot(accuracy_list.index, accuracy_list)"
      ],
      "execution_count": 81,
      "outputs": [
        {
          "output_type": "execute_result",
          "data": {
            "text/plain": [
              "<matplotlib.axes._subplots.AxesSubplot at 0x7f78f334bbe0>"
            ]
          },
          "metadata": {
            "tags": []
          },
          "execution_count": 81
        },
        {
          "output_type": "display_data",
          "data": {
            "image/png": "[encoded data removed]",
            "text/plain": [
              "<Figure size 432x288 with 1 Axes>"
            ]
          },
          "metadata": {
            "tags": [],
            "needs_background": "light"
          }
        }
      ]
    },
    {
      "cell_type": "markdown",
      "metadata": {
        "id": "egfmrTQx3NKm",
        "colab_type": "text"
      },
      "source": [
        "**Plot**\n",
        "\n",
        "Here, I plot the loss of each epoch, from 0 to 100."
      ]
    },
    {
      "cell_type": "code",
      "metadata": {
        "id": "4JHFGNK-186G",
        "colab_type": "code",
        "outputId": "f4de6b80-df2f-4325-8d3e-68979a19a042",
        "colab": {
          "base_uri": "https://localhost:8080/",
          "height": 282
        }
      },
      "source": [
        "sns.lineplot(loss_list.index, loss_list)"
      ],
      "execution_count": 82,
      "outputs": [
        {
          "output_type": "execute_result",
          "data": {
            "text/plain": [
              "<matplotlib.axes._subplots.AxesSubplot at 0x7f78f2f75978>"
            ]
          },
          "metadata": {
            "tags": []
          },
          "execution_count": 82
        },
        {
          "output_type": "display_data",
          "data": {
            "image/png": "[encoded data removed]",
            "text/plain": [
              "<Figure size 432x288 with 1 Axes>"
            ]
          },
          "metadata": {
            "tags": [],
            "needs_background": "light"
          }
        }
      ]
    },
    {
      "cell_type": "code",
      "metadata": {
        "id": "eudEb6YDYI0-",
        "colab_type": "code",
        "outputId": "2797642c-ce61-444f-84e8-8ef251dc1262",
        "colab": {
          "base_uri": "https://localhost:8080/",
          "height": 70
        }
      },
      "source": [
        "score = model.evaluate(X5T, Y5T, batch_size = 30)\n",
        "print(\"The accuracy of this model is: \" + str(score[1]))\n",
        "print(\"The loss of this model is: \" + str(score[0]))"
      ],
      "execution_count": 113,
      "outputs": [
        {
          "output_type": "stream",
          "text": [
            "1188/1188 [==============================] - 0s 30us/step\n",
            "The accuracy of this model is: 0.20875421166419983\n",
            "The loss of this model is: 7.720073495248352\n"
          ],
          "name": "stdout"
        }
      ]
    }
  ]
}